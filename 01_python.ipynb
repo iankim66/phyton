{
 "cells": [
  {
   "cell_type": "code",
   "execution_count": 134,
   "metadata": {},
   "outputs": [
    {
     "name": "stdout",
     "output_type": "stream",
     "text": [
      "10\n",
      "<class 'int'>\n",
      "test\n",
      "<class 'str'>\n"
     ]
    }
   ],
   "source": [
    "# 변수 선언\n",
    "a = 10 \n",
    "b = \"test\"\n",
    "\n",
    "## 변수 출력 \n",
    "print(a)\n",
    "print(type(a))\n",
    "\n",
    "print(b)\n",
    "print(type(b))\n"
   ]
  },
  {
   "cell_type": "code",
   "execution_count": 135,
   "metadata": {},
   "outputs": [
    {
     "name": "stdout",
     "output_type": "stream",
     "text": [
      "<class 'str'>\n"
     ]
    }
   ],
   "source": [
    "a = 'test2'\n",
    "print(type(a))\n"
   ]
  },
  {
   "cell_type": "code",
   "execution_count": 136,
   "metadata": {},
   "outputs": [
    {
     "name": "stdout",
     "output_type": "stream",
     "text": [
      "<class 'bool'>\n"
     ]
    }
   ],
   "source": [
    "# 불형 데이터 \n",
    "# 참과 거짓의 형태 \n",
    "a = True\n",
    "print(type(a))\n"
   ]
  },
  {
   "cell_type": "code",
   "execution_count": 137,
   "metadata": {},
   "outputs": [
    {
     "name": "stdout",
     "output_type": "stream",
     "text": [
      "True False True\n"
     ]
    }
   ],
   "source": [
    "b = (100 > 10)\n",
    "c = 100 < 10\n",
    "d = 100 == 100 \n",
    "print(b,c,d)\n"
   ]
  },
  {
   "cell_type": "code",
   "execution_count": 138,
   "metadata": {},
   "outputs": [
    {
     "name": "stdout",
     "output_type": "stream",
     "text": [
      "10 4 21 2.3333333333333335 2 1 343\n"
     ]
    }
   ],
   "source": [
    "#산술 연산자\n",
    "# 사칙 연산 \n",
    "a = 7 \n",
    "b = 3 \n",
    "print(a+b, a-b, a*b, a/b, a//b, a%b, a**b)"
   ]
  },
  {
   "cell_type": "code",
   "execution_count": 139,
   "metadata": {},
   "outputs": [
    {
     "name": "stdout",
     "output_type": "stream",
     "text": [
      "13\n",
      "10\n"
     ]
    },
    {
     "ename": "TypeError",
     "evalue": "unsupported operand type(s) for *: 'NoneType' and 'int'",
     "output_type": "error",
     "traceback": [
      "\u001b[1;31m---------------------------------------------------------------------------\u001b[0m",
      "\u001b[1;31mTypeError\u001b[0m                                 Traceback (most recent call last)",
      "Cell \u001b[1;32mIn[139], line 3\u001b[0m\n\u001b[0;32m      1\u001b[0m c \u001b[39m=\u001b[39m \u001b[39m2\u001b[39m \n\u001b[0;32m      2\u001b[0m \u001b[39mprint\u001b[39m(a\u001b[39m+\u001b[39mb\u001b[39m*\u001b[39mc)\n\u001b[1;32m----> 3\u001b[0m \u001b[39mprint\u001b[39;49m(a\u001b[39m+\u001b[39;49mb)\u001b[39m*\u001b[39;49mc\n",
      "\u001b[1;31mTypeError\u001b[0m: unsupported operand type(s) for *: 'NoneType' and 'int'"
     ]
    }
   ],
   "source": [
    "c = 2 \n",
    "print(a+b*c)\n",
    "print(a+b)*c"
   ]
  },
  {
   "cell_type": "code",
   "execution_count": null,
   "metadata": {},
   "outputs": [
    {
     "name": "stdout",
     "output_type": "stream",
     "text": [
      "12\n"
     ]
    }
   ],
   "source": [
    "# 대입연산자\n",
    "a += 5 # a = a +5\n",
    "print(a)  \n"
   ]
  },
  {
   "cell_type": "code",
   "execution_count": null,
   "metadata": {},
   "outputs": [],
   "source": [
    "### 조건문 \n",
    "#if 문"
   ]
  },
  {
   "cell_type": "code",
   "execution_count": null,
   "metadata": {},
   "outputs": [
    {
     "name": "stdout",
     "output_type": "stream",
     "text": [
      "a는 10보다 작다\n"
     ]
    }
   ],
   "source": [
    "a = 9 \n",
    "if a < 10:\n",
    "    print(\"a는 10보다 작다\")"
   ]
  },
  {
   "cell_type": "code",
   "execution_count": null,
   "metadata": {},
   "outputs": [
    {
     "name": "stdout",
     "output_type": "stream",
     "text": [
      "a는 10보다 크다\n"
     ]
    }
   ],
   "source": [
    "## if ~ else \n",
    "a = int(input(\"점수를 넣어주세요\"))\n",
    "if a < 10:\n",
    "    print(\"a는 10보다 작다\")\n",
    "else:\n",
    "    print(\"a는 10보다 크다\")\n"
   ]
  },
  {
   "cell_type": "code",
   "execution_count": null,
   "metadata": {},
   "outputs": [
    {
     "name": "stdout",
     "output_type": "stream",
     "text": [
      "70\n",
      "<class 'int'>\n",
      "C\n",
      "\n"
     ]
    }
   ],
   "source": [
    "score = int(input(\"점수를 입력하세요:\"))\n",
    "print(score)\n",
    "print(type(score))\n",
    "if score >= 90:\n",
    "    print(\"A\")\n",
    "elif score >= 80:\n",
    "    print(\"B\")\n",
    "elif score >= 70:\n",
    "    print(\"C\")\n",
    "else :\n",
    "    print(\"F\")\n",
    "print(\"\")\n"
   ]
  },
  {
   "cell_type": "code",
   "execution_count": null,
   "metadata": {},
   "outputs": [
    {
     "name": "stdout",
     "output_type": "stream",
     "text": [
      "0 번째 반복\n",
      "1 번째 반복\n",
      "2 번째 반복\n",
      "3 번째 반복\n",
      "4 번째 반복\n",
      "5 번째 반복\n",
      "6 번째 반복\n",
      "7 번째 반복\n",
      "8 번째 반복\n",
      "9 번째 반복\n"
     ]
    }
   ],
   "source": [
    "for i in range (0,10,1):\n",
    "    print(\"%d 번째 반복\" %i)\n",
    "    "
   ]
  },
  {
   "cell_type": "code",
   "execution_count": null,
   "metadata": {},
   "outputs": [
    {
     "name": "stdout",
     "output_type": "stream",
     "text": [
      "0 번째 반복\n",
      "1 번째 반복\n",
      "2 번째 반복\n",
      "3 번째 반복\n",
      "4 번째 반복\n",
      "5 번째 반복\n",
      "6 번째 반복\n",
      "7 번째 반복\n",
      "8 번째 반복\n",
      "9 번째 반복\n"
     ]
    }
   ],
   "source": [
    "for i in range(10):\n",
    "    print(\"%d 번째 반복\" %i)\n",
    "    "
   ]
  },
  {
   "cell_type": "code",
   "execution_count": null,
   "metadata": {},
   "outputs": [
    {
     "name": "stdout",
     "output_type": "stream",
     "text": [
      "55\n"
     ]
    }
   ],
   "source": [
    "##1부터 10까지의 합계 구하기 \n",
    "# for 문이용 \n",
    "# 합계 변수 생성\n",
    "sum = 0 \n",
    "\n",
    "for a in range (1,11,1):\n",
    "    sum += a\n",
    "    # sum = sum + a \n",
    "print(sum)    # print문을 들여쓰기 안했을때 결과 \n"
   ]
  },
  {
   "cell_type": "code",
   "execution_count": null,
   "metadata": {},
   "outputs": [
    {
     "name": "stdout",
     "output_type": "stream",
     "text": [
      "1\n",
      "3\n",
      "6\n",
      "10\n",
      "15\n",
      "21\n",
      "28\n",
      "36\n",
      "45\n",
      "55\n"
     ]
    }
   ],
   "source": [
    "sum = 0 \n",
    "\n",
    "for a in range (1,11,1):\n",
    "    sum += a\n",
    "    # sum = sum + a \n",
    "    print(sum)  # print 문을 들여썼을때의 결과"
   ]
  },
  {
   "cell_type": "code",
   "execution_count": null,
   "metadata": {},
   "outputs": [
    {
     "name": "stdout",
     "output_type": "stream",
     "text": [
      "2단\n",
      "2 X 1 = 2\n",
      "2 X 2 = 4\n",
      "2 X 3 = 6\n",
      "2 X 4 = 8\n",
      "2 X 5 = 10\n",
      "2 X 6 = 12\n",
      "2 X 7 = 14\n",
      "2 X 8 = 16\n",
      "2 X 9 = 18\n",
      "3단\n",
      "3 X 1 = 3\n",
      "3 X 2 = 6\n",
      "3 X 3 = 9\n",
      "3 X 4 = 12\n",
      "3 X 5 = 15\n",
      "3 X 6 = 18\n",
      "3 X 7 = 21\n",
      "3 X 8 = 24\n",
      "3 X 9 = 27\n",
      "4단\n",
      "4 X 1 = 4\n",
      "4 X 2 = 8\n",
      "4 X 3 = 12\n",
      "4 X 4 = 16\n",
      "4 X 5 = 20\n",
      "4 X 6 = 24\n",
      "4 X 7 = 28\n",
      "4 X 8 = 32\n",
      "4 X 9 = 36\n",
      "5단\n",
      "5 X 1 = 5\n",
      "5 X 2 = 10\n",
      "5 X 3 = 15\n",
      "5 X 4 = 20\n",
      "5 X 5 = 25\n",
      "5 X 6 = 30\n",
      "5 X 7 = 35\n",
      "5 X 8 = 40\n",
      "5 X 9 = 45\n",
      "6단\n",
      "6 X 1 = 6\n",
      "6 X 2 = 12\n",
      "6 X 3 = 18\n",
      "6 X 4 = 24\n",
      "6 X 5 = 30\n",
      "6 X 6 = 36\n",
      "6 X 7 = 42\n",
      "6 X 8 = 48\n",
      "6 X 9 = 54\n",
      "7단\n",
      "7 X 1 = 7\n",
      "7 X 2 = 14\n",
      "7 X 3 = 21\n",
      "7 X 4 = 28\n",
      "7 X 5 = 35\n",
      "7 X 6 = 42\n",
      "7 X 7 = 49\n",
      "7 X 8 = 56\n",
      "7 X 9 = 63\n",
      "8단\n",
      "8 X 1 = 8\n",
      "8 X 2 = 16\n",
      "8 X 3 = 24\n",
      "8 X 4 = 32\n",
      "8 X 5 = 40\n",
      "8 X 6 = 48\n",
      "8 X 7 = 56\n",
      "8 X 8 = 64\n",
      "8 X 9 = 72\n",
      "9단\n",
      "9 X 1 = 9\n",
      "9 X 2 = 18\n",
      "9 X 3 = 27\n",
      "9 X 4 = 36\n",
      "9 X 5 = 45\n",
      "9 X 6 = 54\n",
      "9 X 7 = 63\n",
      "9 X 8 = 72\n",
      "9 X 9 = 81\n"
     ]
    }
   ],
   "source": [
    "# 다중 for 문 \n",
    "## 구구단 \n",
    "for i in range(2,10,1):\n",
    "    print(str(i)+\"단\") # print(\"%d\") 이렇게 써도 됀다 \n",
    "    for j in range(1,10,1):\n",
    "        print(\"%d X %d = %d\"%(i,j,i*j)) # or print(str(i) + \"X\" + str(j) + \"=\" + str(i*j))\n",
    "        "
   ]
  },
  {
   "cell_type": "code",
   "execution_count": null,
   "metadata": {},
   "outputs": [
    {
     "name": "stdout",
     "output_type": "stream",
     "text": [
      "2550\n"
     ]
    }
   ],
   "source": [
    "## for 문 \n",
    "## 1 부터 100까지의 숫자중에 짝수의 합계를 구하라. \n",
    "## hint : 1 부터 100까지의 반복 \n",
    "## if 조건문을 사용해서 짝수인 경우에만 + \n",
    "sum = 0 \n",
    "for i in range (1,101,1):\n",
    "    if i % 2 == 0:\n",
    "        sum += i \n",
    "print(sum)"
   ]
  },
  {
   "cell_type": "code",
   "execution_count": null,
   "metadata": {},
   "outputs": [
    {
     "name": "stdout",
     "output_type": "stream",
     "text": [
      "1 4\n",
      "2 3\n",
      "3 2\n",
      "4 1\n"
     ]
    }
   ],
   "source": [
    "## 다중 for 문 \n",
    "## 2개의 주사위를 굴려서 두 주사위의 합이 5가 되는 주사위의 값을 출력하라. \n",
    "for i in range (1,7,1):\n",
    "    for j in range (1,7,1):\n",
    "        if i+j == 5:\n",
    "            print(i,j)"
   ]
  },
  {
   "cell_type": "code",
   "execution_count": null,
   "metadata": {},
   "outputs": [
    {
     "name": "stdout",
     "output_type": "stream",
     "text": [
      "0\n",
      "1\n",
      "2\n",
      "3\n",
      "4\n",
      "5\n",
      "6\n",
      "7\n",
      "8\n",
      "9\n"
     ]
    }
   ],
   "source": [
    "## while 문 \n",
    "## 초기값 지정 \n",
    "i = 0 \n",
    "## while 문 시작 \n",
    "while i < 10 :\n",
    "    print(i)\n",
    "    i += 1"
   ]
  },
  {
   "cell_type": "code",
   "execution_count": null,
   "metadata": {},
   "outputs": [
    {
     "name": "stdout",
     "output_type": "stream",
     "text": [
      "1\n",
      "2\n",
      "3\n",
      "4\n",
      "5\n",
      "6\n",
      "7\n",
      "8\n",
      "9\n",
      "10\n"
     ]
    }
   ],
   "source": [
    "i = 0 \n",
    "## while 문 시작 \n",
    "while i < 10 :\n",
    "    i += 1\n",
    "    print(i)         # print 문의 위치에 따라서, 결과값이 달라진다."
   ]
  },
  {
   "cell_type": "code",
   "execution_count": null,
   "metadata": {},
   "outputs": [
    {
     "name": "stdout",
     "output_type": "stream",
     "text": [
      "1 번째 반복\n",
      "2 번째 반복\n",
      "3 번째 반복\n",
      "4 번째 반복\n",
      "5 번째 반복\n"
     ]
    }
   ],
   "source": [
    "## break 문 \n",
    "for i in range (1,100,1):\n",
    "    print(\"%d 번째 반복\" %i)\n",
    "    if i == 5: \n",
    "        break"
   ]
  },
  {
   "cell_type": "code",
   "execution_count": null,
   "metadata": {},
   "outputs": [
    {
     "name": "stdout",
     "output_type": "stream",
     "text": [
      "1 번째 반복\n",
      "2 번째 반복\n",
      "3 번째 반복\n",
      "4 번째 반복\n"
     ]
    }
   ],
   "source": [
    "for i in range (1,100,1):\n",
    "    if i == 5: \n",
    "        break\n",
    "    print(\"%d 번째 반복\" %i)  # print 문의 위치에 따라서, 결과값이 달라진다."
   ]
  },
  {
   "cell_type": "code",
   "execution_count": null,
   "metadata": {},
   "outputs": [
    {
     "name": "stdout",
     "output_type": "stream",
     "text": [
      "합계가 500 이상이 되는 범위의 숫자 32 합계는 528\n"
     ]
    }
   ],
   "source": [
    "## 1부터 100까지 합계를 구하는준. \n",
    "## 합계가 500 이 넘어가는 숫자와 합계의 값. \n",
    "sum = 0 \n",
    "for i in range (1,101,1):\n",
    "    sum += i\n",
    "    if sum >= 500:\n",
    "        break\n",
    "print(\"합계가 500 이상이 되는 범위의 숫자\",i,'합계는',sum)"
   ]
  },
  {
   "cell_type": "code",
   "execution_count": null,
   "metadata": {},
   "outputs": [
    {
     "name": "stdout",
     "output_type": "stream",
     "text": [
      "합계가 500 이상이 되는 범위의 숫자 32 합계는 528\n"
     ]
    }
   ],
   "source": [
    "## while 문으로 값은 결과값 출력하기\n",
    "sum = 0\n",
    "j = 1\n",
    "while j < 101 :\n",
    "    sum += j \n",
    "    if sum >= 500:\n",
    "        break\n",
    "    j += 1\n",
    "print(\"합계가 500 이상이 되는 범위의 숫자\",j,'합계는',sum)"
   ]
  },
  {
   "cell_type": "code",
   "execution_count": null,
   "metadata": {},
   "outputs": [
    {
     "name": "stdout",
     "output_type": "stream",
     "text": [
      "4 번째 반복 \n",
      "5 번째 반복 \n",
      "6 번째 반복 \n",
      "7 번째 반복 \n",
      "8 번째 반복 \n",
      "9 번째 반복 \n"
     ]
    }
   ],
   "source": [
    "## continue 문 \n",
    "for i in range (1,10,1):\n",
    "    if i <= 3:\n",
    "        continue\n",
    "    print(\"%d 번째 반복 \"%i)"
   ]
  },
  {
   "cell_type": "code",
   "execution_count": null,
   "metadata": {},
   "outputs": [
    {
     "name": "stdout",
     "output_type": "stream",
     "text": [
      "2550\n"
     ]
    }
   ],
   "source": [
    "## 1 부터 100까지의 짝수의 합계 \n",
    "sum = 0 \n",
    "for i in range ( 1, 101, 1):\n",
    "    if i % 2 == 1:\n",
    "        continue\n",
    "    sum += i \n",
    "print(sum)"
   ]
  },
  {
   "cell_type": "code",
   "execution_count": null,
   "metadata": {},
   "outputs": [
    {
     "name": "stdout",
     "output_type": "stream",
     "text": [
      "(1, 'Hello') (3, 3.14) (1, 'Hello', 3, 3.14) (1, 'Hello', 1, 'Hello', 1, 'Hello') Hello\n"
     ]
    }
   ],
   "source": [
    "### 튜플 \n",
    "a = (1, 'Hello')\n",
    "b = (3, 3.14)\n",
    "c = a + b \n",
    "d = a * 3 \n",
    "e = a[1]\n",
    "print(a,b,c,d,e)"
   ]
  },
  {
   "cell_type": "code",
   "execution_count": null,
   "metadata": {},
   "outputs": [
    {
     "name": "stdout",
     "output_type": "stream",
     "text": [
      "1\n"
     ]
    }
   ],
   "source": [
    "## 숫자 1만 출력하고 싶다면 \n",
    "print(a[0])"
   ]
  },
  {
   "cell_type": "code",
   "execution_count": null,
   "metadata": {},
   "outputs": [
    {
     "name": "stdout",
     "output_type": "stream",
     "text": [
      "(20, 30)\n",
      "(30, 40)\n"
     ]
    }
   ],
   "source": [
    "a = (10,20,30,40) \n",
    "print(a[1:3]) # 두번째, 마지막에서 - 1 번째값 출력\n",
    "print(a[2:]) # 세번째, 마지막까지 출력"
   ]
  },
  {
   "cell_type": "code",
   "execution_count": null,
   "metadata": {},
   "outputs": [],
   "source": [
    "## list 형태 데이터\n",
    "a = [20,10,50,5]\n",
    "b = [10,20,30,40]\n",
    "## sort() --> 오름차순정렬 \n",
    "a.sort()\n",
    "## reverse()\n",
    "b.reverse()"
   ]
  },
  {
   "cell_type": "code",
   "execution_count": null,
   "metadata": {},
   "outputs": [
    {
     "name": "stdout",
     "output_type": "stream",
     "text": [
      "[5, 10, 20, 50, 22]\n"
     ]
    }
   ],
   "source": [
    "# append() --> 리스트의 마지막에 항목 추가 \n",
    "a.append(22)\n",
    "print(a)"
   ]
  },
  {
   "cell_type": "code",
   "execution_count": null,
   "metadata": {},
   "outputs": [
    {
     "name": "stdout",
     "output_type": "stream",
     "text": [
      "[]\n",
      "[10]\n"
     ]
    }
   ],
   "source": [
    "## 리스트의 특징\n",
    "a = []\n",
    "print(a)\n",
    "a.append(10)\n",
    "print(a)"
   ]
  },
  {
   "cell_type": "code",
   "execution_count": null,
   "metadata": {},
   "outputs": [
    {
     "name": "stdout",
     "output_type": "stream",
     "text": [
      "[3, 6, 9, 12, 15, 18, 21, 24, 27, 30, 33, 36, 39, 42, 45, 48, 51, 54, 57, 60, 63, 66, 69]\n"
     ]
    }
   ],
   "source": [
    "##1부터 70까지 숫자들중에 3의 배수를 리스트로 만들어서 출력 \n",
    "l = [] ## 비어있는 리스트 생성\n",
    "for i in range (1,71,1):  ## 1부터 70까지 반복\n",
    "    if i % 3 == 0 : ## 3의 배수 조건식\n",
    "       l.append(i)\n",
    "print(l)"
   ]
  },
  {
   "cell_type": "code",
   "execution_count": null,
   "metadata": {},
   "outputs": [
    {
     "name": "stdout",
     "output_type": "stream",
     "text": [
      "5\n",
      "7\n",
      "10\n"
     ]
    }
   ],
   "source": [
    "for i in [5,7,10]:\n",
    "    print(i)"
   ]
  },
  {
   "cell_type": "code",
   "execution_count": null,
   "metadata": {},
   "outputs": [
    {
     "name": "stdout",
     "output_type": "stream",
     "text": [
      "828\n"
     ]
    }
   ],
   "source": [
    "## 위에 l 리스트 안에 값을 모두 더하는 값 \n",
    "sum = 0 \n",
    "for i in l:\n",
    "    sum += i\n",
    "print(sum)\n",
    "    "
   ]
  },
  {
   "cell_type": "code",
   "execution_count": null,
   "metadata": {},
   "outputs": [
    {
     "name": "stdout",
     "output_type": "stream",
     "text": [
      "test\n",
      "20\n",
      "{'name': 'test', 'age': 20, 'phone': '01012345467', 'area': 'seoul'}\n"
     ]
    }
   ],
   "source": [
    "## 딕셔너리 \n",
    "## 사전형 데이터 \n",
    "## {key1:value1, key2:value2,...}\n",
    "dict = {\n",
    "    \"name\" : \"test\",\n",
    "    \"age\" : 20,\n",
    "    \"phone\": \"01012345467\"\n",
    "}\n",
    "print(dict[\"name\"])\n",
    "print(dict[\"age\"])\n",
    "# 새로운 key: value 대입 \n",
    "dict['area'] = \"seoul\"\n",
    "print(dict)"
   ]
  },
  {
   "cell_type": "code",
   "execution_count": null,
   "metadata": {},
   "outputs": [
    {
     "name": "stdout",
     "output_type": "stream",
     "text": [
      "test1\n"
     ]
    }
   ],
   "source": [
    "## database 에서 데이터를 받아올때 데이터의 형태\n",
    "## [{},{},{}]\n",
    "test_data = [ \n",
    "    {\n",
    "        \"name\" : \"test1\",\n",
    "        \"age\" : 20\n",
    "    },\n",
    "    {\n",
    "        \"name\" : \"test2\",\n",
    "        \"age\" : 30\n",
    "    },\n",
    "    {\n",
    "        \"name\" : \"test3\",\n",
    "        \"age\" : 40\n",
    "    }\n",
    "]\n",
    "print(test_data[0][\"name\"]) # 먼저 test_data 리스트의 첫번째 값의 dict 의 test 1 을 출력함 ."
   ]
  },
  {
   "cell_type": "code",
   "execution_count": null,
   "metadata": {},
   "outputs": [
    {
     "name": "stdout",
     "output_type": "stream",
     "text": [
      "['test1', 'test2', 'test3']\n"
     ]
    }
   ],
   "source": [
    "## test_data 에서 name 의 값들만 리스트의 형태로 출력 \n",
    "name_list = []\n",
    "\n",
    "for i in test_data:\n",
    "    name_list.append(i[\"name\"])\n",
    "print(name_list)"
   ]
  },
  {
   "cell_type": "code",
   "execution_count": null,
   "metadata": {},
   "outputs": [
    {
     "name": "stdout",
     "output_type": "stream",
     "text": [
      "['test1', 'test2', 'test3']\n"
     ]
    }
   ],
   "source": [
    "name_list = [] \n",
    "for i in range (0,3,1):  # or for i in range (0,len(test_data),1) or for i in range (len(test_data))\n",
    "    name_list.append(test_data[i][\"name\"])\n",
    "print(name_list)"
   ]
  },
  {
   "cell_type": "code",
   "execution_count": null,
   "metadata": {},
   "outputs": [],
   "source": [
    "#### github 주소 ## 자료 받는곳 \n",
    "#### https://github.com/bsmoon-86/ezen-python"
   ]
  },
  {
   "cell_type": "code",
   "execution_count": null,
   "metadata": {},
   "outputs": [
    {
     "name": "stdout",
     "output_type": "stream",
     "text": [
      "HELLO WORLD\n",
      "hello world\n"
     ]
    }
   ],
   "source": [
    "## 문자열 내장 함수 \n",
    "## 대문자, 소문자 변환\n",
    "## upper(), lower()\n",
    "text = \"Hello World\"\n",
    "print(text.upper())\n",
    "print(text.lower())"
   ]
  },
  {
   "cell_type": "code",
   "execution_count": null,
   "metadata": {},
   "outputs": [
    {
     "name": "stdout",
     "output_type": "stream",
     "text": [
      "    Hello World   \n"
     ]
    }
   ],
   "source": [
    "text = \"    Hello World   \"  ## 앞에 공백 뒤에 공백이 있을경우 \n",
    "print(text)"
   ]
  },
  {
   "cell_type": "code",
   "execution_count": null,
   "metadata": {},
   "outputs": [
    {
     "name": "stdout",
     "output_type": "stream",
     "text": [
      "Hello World   \n",
      "    Hello World\n",
      "Hello World\n"
     ]
    },
    {
     "data": {
      "text/plain": [
       "'HelloWorld'"
      ]
     },
     "execution_count": 122,
     "metadata": {},
     "output_type": "execute_result"
    }
   ],
   "source": [
    "## 공백 제거 함수 \n",
    "## strip() : 양쪽의 공백 제거 \n",
    "## lstrip() : 왼쪽의 공백 제거 \n",
    "## rstrip() : 오른쪽의 공백 제거 \n",
    "print(text.lstrip())\n",
    "print(text.rstrip())\n",
    "print(text.strip())\n",
    "## 가운데 공백을 제거 할때는 ?? \n",
    "## replace() \n",
    "## 선택한 문자열을 변경 , 하지만 공백을 제거하는데도, 사용이 가능함. \n",
    "text.replace(\" \",\"\")"
   ]
  },
  {
   "cell_type": "code",
   "execution_count": null,
   "metadata": {},
   "outputs": [
    {
     "data": {
      "text/plain": [
       "'    Hi World   '"
      ]
     },
     "execution_count": 123,
     "metadata": {},
     "output_type": "execute_result"
    }
   ],
   "source": [
    "text.replace(\"Hello\",'Hi')"
   ]
  },
  {
   "cell_type": "code",
   "execution_count": null,
   "metadata": {},
   "outputs": [
    {
     "name": "stdout",
     "output_type": "stream",
     "text": [
      "a,b,c,d,e\n"
     ]
    },
    {
     "data": {
      "text/plain": [
       "['a', 'b', 'c', 'd', 'e']"
      ]
     },
     "execution_count": 126,
     "metadata": {},
     "output_type": "execute_result"
    }
   ],
   "source": [
    "### split()\n",
    "## 기준이 되는 문자열이나, ./ 와 같은 특수문자열을 기준으로 문자열을 나눠주는 역할\n",
    "a = \"a,b,c,d,e\"\n",
    "print(a)\n",
    "a.split(\",\")"
   ]
  },
  {
   "cell_type": "code",
   "execution_count": null,
   "metadata": {},
   "outputs": [
    {
     "name": "stdout",
     "output_type": "stream",
     "text": [
      "Hello World\n",
      "Hello World\n",
      "Hello World\n"
     ]
    }
   ],
   "source": [
    "#### 함수 ##### \n",
    "def func_1():\n",
    "    return \"Hello World\"\n",
    "print(func_1())\n",
    "print(func_1())\n",
    "print(func_1())"
   ]
  },
  {
   "cell_type": "code",
   "execution_count": null,
   "metadata": {},
   "outputs": [],
   "source": [
    "## 매개 변수가 존재하는 함수 생성 \n",
    "def func_2(x,y):\n",
    "    result = x + y\n",
    "    return result"
   ]
  },
  {
   "cell_type": "code",
   "execution_count": 140,
   "metadata": {},
   "outputs": [
    {
     "name": "stdout",
     "output_type": "stream",
     "text": [
      "8\n",
      "4\n",
      "14\n"
     ]
    }
   ],
   "source": [
    "print(func_2(5,3))\n",
    "print(func_2(1,3))\n",
    "print(func_2(10,4))"
   ]
  },
  {
   "cell_type": "code",
   "execution_count": 142,
   "metadata": {},
   "outputs": [
    {
     "data": {
      "text/plain": [
       "3"
      ]
     },
     "execution_count": 142,
     "metadata": {},
     "output_type": "execute_result"
    }
   ],
   "source": [
    "func_2(1,2)"
   ]
  },
  {
   "cell_type": "code",
   "execution_count": 143,
   "metadata": {},
   "outputs": [
    {
     "name": "stdout",
     "output_type": "stream",
     "text": [
      "6\n",
      "6\n"
     ]
    }
   ],
   "source": [
    "### 매개변수에 기본값을 정의 \n",
    "def func_3(x,y = 3):\n",
    "    result = x + y\n",
    "    return result\n",
    "    \n",
    "print(func_3(5,1))  ## 위에 매개변수 y = 3 을 정의했지만, \"1\" 로 바꿔서 출력\n",
    "print(func_3(3))  ## y 에 해당하는 인자값을 생략해도 위에 매개변수가 정의되어 있으므로, 에러 안나옴"
   ]
  },
  {
   "cell_type": "code",
   "execution_count": 145,
   "metadata": {},
   "outputs": [
    {
     "name": "stdout",
     "output_type": "stream",
     "text": [
      "25\n",
      "32\n"
     ]
    }
   ],
   "source": [
    "def func_4(x,y):\n",
    "    result = x ** y\n",
    "    return result\n",
    "    \n",
    "print(func_4(5,2))\n",
    "print(func_4(y=5, x=2))"
   ]
  },
  {
   "cell_type": "code",
   "execution_count": null,
   "metadata": {},
   "outputs": [],
   "source": [
    "## 1. 함수를 하나 생성 매개변수 2개 (x,y )\n",
    "## 2. 함수가 하는 행동 ( x 부터 y 까지의 합을 리터 ) - for / while 문 \n",
    "## 3. x 보다 y 가 작은 경우에는 x 부터 y 까지의 합, 반대인경우에는 y 부터 x 까지의 합. "
   ]
  },
  {
   "cell_type": "code",
   "execution_count": 171,
   "metadata": {},
   "outputs": [
    {
     "name": "stdout",
     "output_type": "stream",
     "text": [
      "55\n",
      "55\n",
      "55\n",
      "55\n",
      "55\n",
      "55\n"
     ]
    }
   ],
   "source": [
    "# 1 의 경우 for 문을 이용할 경우 \n",
    "def func_5(x,y):\n",
    "    f_sum = 0\n",
    "    for i in range (x,y+1,1):\n",
    "        f_sum += i\n",
    "    return f_sum\n",
    "\n",
    "print(func_5(1,10))\n",
    "## print(f_sum) 이럴경우에는 에러가남, if_sum 은 함수안에 사용된 지역변수 이므로.. \n",
    " \n",
    "# 2 의 경우 while 문을 이용할 경우 \n",
    "def func_6(x,y):\n",
    "    sum = 0\n",
    "    while x <= y:\n",
    "        sum += x\n",
    "        x += 1\n",
    "    return sum\n",
    "    \n",
    "print(func_6(1,10))\n",
    "\n",
    "# 3 의 경우 \n",
    "def func_7(x,y):\n",
    "    f_sum = 0 \n",
    "    ## x 가 y보다 작은 경우 \n",
    "    if x < y :\n",
    "        for i in range(x,y+1,1):\n",
    "            f_sum += i \n",
    "    else: \n",
    "        for i in range(y,x+1,1):\n",
    "            f_sum += i \n",
    "    return f_sum \n",
    "print(func_7(1,10))\n",
    "print(func_7(10,1))\n",
    "\n",
    "## if 문을 사용하지 않을 경우 \n",
    "def func_8(x,y):\n",
    "    f_sum = 0 \n",
    "    for i in range(min(x,y), max(x,y)+1, 1):\n",
    "        f_sum += i\n",
    "    return f_sum\n",
    "    \n",
    "print(func_8(1,10))\n",
    "print(func_8(10,1))\n",
    "        "
   ]
  },
  {
   "cell_type": "code",
   "execution_count": null,
   "metadata": {},
   "outputs": [],
   "source": [
    "### 함수 생성 ( 매개변수 3개 x,y,z)\n",
    "### z 의 값이 \"합\" x+y 리턴 \n",
    "### z 의 값이 \"차\" x-y 리턴 \n",
    "### z 의 값이 둘다 아니면 \"연산식이 잘못 되었습니다.\" 리턴 \n"
   ]
  },
  {
   "cell_type": "code",
   "execution_count": 178,
   "metadata": {},
   "outputs": [
    {
     "name": "stdout",
     "output_type": "stream",
     "text": [
      "4\n",
      "-2\n",
      "연산식이 잘못 되었습니다.\n"
     ]
    }
   ],
   "source": [
    "def func_10(x,y,z):\n",
    "    if z == '합':\n",
    "        return x + y \n",
    "    elif z == '차':\n",
    "        return x - y\n",
    "    else:\n",
    "        return \"연산식이 잘못 되었습니다.\"\n",
    "print(func_10(1,3,'합')) \n",
    "print(func_10(1,3,'차'))\n",
    "print(func_10(1,3,'곱'))\n"
   ]
  },
  {
   "cell_type": "code",
   "execution_count": 182,
   "metadata": {},
   "outputs": [
    {
     "name": "stdout",
     "output_type": "stream",
     "text": [
      "4\n",
      "-2\n",
      "연산식이 잘못 되었습니다.\n"
     ]
    }
   ],
   "source": [
    "## return  을 세번쓰기 씷을때 \n",
    "def func_11(x,y,z):\n",
    "    if z == '합':\n",
    "        result = x + y \n",
    "    elif z == '차':\n",
    "        result = x - y\n",
    "    else:\n",
    "        result = \"연산식이 잘못 되었습니다.\"\n",
    "    return result \n",
    "\n",
    "print(func_11(1,3,'합')) \n",
    "print(func_11(1,3,'차'))\n",
    "print(func_11(1,3,'곱'))"
   ]
  },
  {
   "cell_type": "code",
   "execution_count": 181,
   "metadata": {},
   "outputs": [
    {
     "name": "stdout",
     "output_type": "stream",
     "text": [
      "[1, 4, 9, 16]\n"
     ]
    }
   ],
   "source": [
    "def func_12(x):\n",
    "    result = x ** 2 \n",
    "    return result \n",
    "    \n",
    "l = [1,2,3,4]\n",
    "result = [] \n",
    "for i in l:\n",
    "    result.append(func_12(i)) \n",
    "print(result)"
   ]
  },
  {
   "cell_type": "code",
   "execution_count": 184,
   "metadata": {},
   "outputs": [
    {
     "name": "stdout",
     "output_type": "stream",
     "text": [
      "[1, 4, 9, 16]\n"
     ]
    }
   ],
   "source": [
    "## map 함수 ( for 문을 사용해서, 반복작업을 수행할 필요없는 함수 )\n",
    "result_2 = list(map(func_12, l))\n",
    "print(result_2)"
   ]
  },
  {
   "cell_type": "code",
   "execution_count": 185,
   "metadata": {},
   "outputs": [
    {
     "name": "stdout",
     "output_type": "stream",
     "text": [
      "16\n"
     ]
    }
   ],
   "source": [
    "## 람다 함수 \n",
    "lamb = lambda x: x **2 \n",
    "print(lamb(4))"
   ]
  },
  {
   "cell_type": "code",
   "execution_count": 187,
   "metadata": {},
   "outputs": [
    {
     "data": {
      "text/plain": [
       "[1, 4, 9, 16]"
      ]
     },
     "execution_count": 187,
     "metadata": {},
     "output_type": "execute_result"
    }
   ],
   "source": [
    "list(map(lamb, l))"
   ]
  }
 ],
 "metadata": {
  "kernelspec": {
   "display_name": "Python 3",
   "language": "python",
   "name": "python3"
  },
  "language_info": {
   "codemirror_mode": {
    "name": "ipython",
    "version": 3
   },
   "file_extension": ".py",
   "mimetype": "text/x-python",
   "name": "python",
   "nbconvert_exporter": "python",
   "pygments_lexer": "ipython3",
   "version": "3.11.1"
  },
  "orig_nbformat": 4,
  "vscode": {
   "interpreter": {
    "hash": "c261aea317cc0286b3b3261fbba9abdec21eaa57589985bb7a274bf54d6cc0a7"
   }
  }
 },
 "nbformat": 4,
 "nbformat_minor": 2
}
