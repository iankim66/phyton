{
 "cells": [
  {
   "cell_type": "code",
   "execution_count": null,
   "metadata": {
    "vscode": {
     "languageId": "plaintext"
    }
   },
   "outputs": [],
   "source": [
    "!pip install seaborn"
   ]
  },
  {
   "cell_type": "code",
   "execution_count": null,
   "metadata": {
    "vscode": {
     "languageId": "plaintext"
    }
   },
   "outputs": [],
   "source": [
    "import pandas as pd \n",
    "import seaborn as sns\n",
    "import matplotlib.pyplot as plt"
   ]
  },
  {
   "attachments": {},
   "cell_type": "markdown",
   "metadata": {},
   "source": [
    "drinks.csv 파일 로드\n",
    "'beer_serving', 'spirit_serving', 'wine_serving', 'total_litres_of_pure_alcohol' 컬럼의 데이터 간의 상관관계 출력\n",
    "행렬 히트맵 시각화\n",
    "국가별 술 소비량 대비 알콜 비율 컬럼 추가\n",
    "국가별 순위 시각화 (우리나라의 소비량을 표시)"
   ]
  },
  {
   "cell_type": "code",
   "execution_count": null,
   "metadata": {
    "vscode": {
     "languageId": "plaintext"
    }
   },
   "outputs": [],
   "source": [
    "# 1. 파일 로드 \n",
    "drinks = pd.read_csv(\"../csv/drinks.csv\")\n",
    "drinks.head(2)"
   ]
  },
  {
   "cell_type": "code",
   "execution_count": null,
   "metadata": {
    "vscode": {
     "languageId": "plaintext"
    }
   },
   "outputs": [],
   "source": [
    "\n",
    "## 상관계수 행렬 출력\n",
    "corr = drinks[\n",
    "    ['beer_servings', \n",
    "     'spirit_servings', \n",
    "     'wine_servings', \n",
    "     'total_litres_of_pure_alcohol']\n",
    "].corr(method='pearson')\n",
    "corr"
   ]
  },
  {
   "cell_type": "code",
   "execution_count": null,
   "metadata": {
    "vscode": {
     "languageId": "plaintext"
    }
   },
   "outputs": [],
   "source": [
    "## 상관관계 시각화\n",
    "cols_view = ['beer', 'spirit', 'wine', 'alcohol']\n",
    "\n",
    "sns.set(font_scale = 1.5)\n",
    "\n",
    "hm = sns.heatmap(\n",
    "    corr.values, \n",
    "    cbar=True, \n",
    "    annot = True, \n",
    "    square= True, \n",
    "    fmt = '.2f', \n",
    "    annot_kws = {'size' : 20}, \n",
    "    xticklabels = cols_view, \n",
    "    yticklabels = cols_view\n",
    ")\n",
    "\n",
    "plt.tight_layout()\n",
    "plt.show()"
   ]
  },
  {
   "cell_type": "code",
   "execution_count": null,
   "metadata": {
    "vscode": {
     "languageId": "plaintext"
    }
   },
   "outputs": [],
   "source": [
    "sns.set(style='whitegrid', context='notebook')\n",
    "\n",
    "sns.pairplot(\n",
    "    drinks[\n",
    "        ['beer_servings', \n",
    "         'spirit_servings', \n",
    "         'wine_servings', \n",
    "         'total_litres_of_pure_alcohol']\n",
    "    ], \n",
    "    height=2.5\n",
    ")\n",
    "plt.show()"
   ]
  },
  {
   "cell_type": "code",
   "execution_count": null,
   "metadata": {
    "vscode": {
     "languageId": "plaintext"
    }
   },
   "outputs": [],
   "source": [
    "## 새로운 파생변수를 생성\n",
    "## 총 술의 소비량(total_servings) = beer + spirit + wine\n",
    "\n",
    "## 술 소비량 대비 알콜 비율 파생변수 생성\n",
    "## alcohol_rate = total_litres_of_pure_alcohol / total_servings \n",
    "## 결측치 존재 -> 0으로 대체"
   ]
  }
 ],
 "metadata": {
  "language_info": {
   "name": "python"
  },
  "orig_nbformat": 4
 },
 "nbformat": 4,
 "nbformat_minor": 2
}
