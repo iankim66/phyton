{
 "cells": [
  {
   "cell_type": "code",
   "execution_count": null,
   "metadata": {},
   "outputs": [],
   "source": [
    "!pip install selenium"
   ]
  },
  {
   "cell_type": "code",
   "execution_count": null,
   "metadata": {},
   "outputs": [],
   "source": [
    "## Chrom web driver download ( chrom 버전마다 다르므로, 현재 버전 확인후 download) \n",
    "## choromdriver.exe 파일은 오른쪽 python 폴더 밑에 copy & paste 한다."
   ]
  },
  {
   "cell_type": "markdown",
   "metadata": {},
   "source": [
    "### selenium 라이브러리 \n",
    "1. 웹 어플리케이션 테스트를 위한 라이브러리\n",
    "2. python 을 이용하여 웹 브라우저를 제어하는 기능 \n",
    "3. 웹드라이버라는 별도의 프로그램 설치"
   ]
  },
  {
   "cell_type": "code",
   "execution_count": 3,
   "metadata": {},
   "outputs": [],
   "source": [
    "# 라이브러리 로드 \n",
    "from selenium import webdriver"
   ]
  },
  {
   "cell_type": "code",
   "execution_count": 10,
   "metadata": {},
   "outputs": [],
   "source": [
    "# webdriver 파일의 위치를 지정 \n",
    "# 상대 경로 \n",
    "path = '../chromedriver'\n",
    "# 절대 경로 \n",
    "#path2 = 'C:\\\\Users\\ezen\\Documents\\GitHub\\phyton\\chromedriver'"
   ]
  },
  {
   "cell_type": "code",
   "execution_count": 84,
   "metadata": {},
   "outputs": [
    {
     "name": "stderr",
     "output_type": "stream",
     "text": [
      "C:\\Users\\ezen\\AppData\\Local\\Temp\\ipykernel_8256\\868236909.py:2: DeprecationWarning: executable_path has been deprecated, please pass in a Service object\n",
      "  driver = webdriver.Chrome(path)\n"
     ]
    }
   ],
   "source": [
    "## 웹드라이버 실행 \n",
    "driver = webdriver.Chrome(path)\n",
    "## 웹드라이버에 주소창에 네이버에 요청 \n",
    "driver.get('https://www.naver.com')"
   ]
  },
  {
   "cell_type": "code",
   "execution_count": 17,
   "metadata": {},
   "outputs": [],
   "source": [
    "from selenium.webdriver.common.by import By\n",
    "from selenium.webdriver.common.keys import Keys"
   ]
  },
  {
   "cell_type": "code",
   "execution_count": null,
   "metadata": {},
   "outputs": [],
   "source": [
    "element = driver.find_element(By.ID, 'query') # query 라는 id 값을 가진 값을 element 변수에 담아놈\n",
    "element.send_keys(\"하이디라오\") # 네이버 검색창에 '검색어\"가 입력됨."
   ]
  },
  {
   "cell_type": "code",
   "execution_count": null,
   "metadata": {},
   "outputs": [],
   "source": [
    "element.send_keys(Keys.ENTER)"
   ]
  },
  {
   "cell_type": "code",
   "execution_count": 54,
   "metadata": {},
   "outputs": [],
   "source": [
    "from bs4 import BeautifulSoup as bs"
   ]
  },
  {
   "cell_type": "code",
   "execution_count": 55,
   "metadata": {},
   "outputs": [],
   "source": [
    "soup = bs(driver.page_source,'html.parser') \n",
    "# driver 에 있는 html source 들을 파싱해서 soup 에 담아줌"
   ]
  },
  {
   "cell_type": "code",
   "execution_count": 56,
   "metadata": {},
   "outputs": [
    {
     "data": {
      "text/plain": [
       "[<div class=\"question_group\"> <a class=\"api_txt_lines question_text\" href=\"https://kin.naver.com/qna/detail.naver?d1id=8&amp;dirId=8020603&amp;docId=440718964&amp;qb=7ZWY7J2065SU65287Jik&amp;enc=utf8&amp;section=kin.ext&amp;rank=1&amp;search_sort=0&amp;spq=0\" onclick=\"return goOtherCR(this,'a=kin*k.question&amp;r=1&amp;i=10000009_00001a44d674&amp;u='+urlencode(this.href));\" target=\"_blank\"><mark>하이디라오</mark> 매실 <mark>하이디라오</mark>에서 주는 매실 이거 맞나요?</a> </div>,\n",
       " <div class=\"question_group\"> <a class=\"api_txt_lines question_text\" href=\"https://kin.naver.com/qna/detail.naver?d1id=8&amp;dirId=8020604&amp;docId=436775032&amp;qb=7ZWY7J2065SU65287Jik&amp;enc=utf8&amp;section=kin.ext&amp;rank=2&amp;search_sort=0&amp;spq=0\" onclick=\"return goOtherCR(this,'a=kin*k.question&amp;r=2&amp;i=10000009_00001a08a878&amp;u='+urlencode(this.href));\" target=\"_blank\">북앤라이프 도서문화상품권 <mark>하이디라오</mark> 쓸 수 있나요?</a> </div>,\n",
       " <div class=\"question_group\"> <a class=\"api_txt_lines question_text\" href=\"https://kin.naver.com/qna/detail.naver?d1id=12&amp;dirId=120110&amp;docId=435955731&amp;qb=7ZWY7J2065SU65287Jik&amp;enc=utf8&amp;section=kin.ext&amp;rank=3&amp;search_sort=0&amp;spq=0\" onclick=\"return goOtherCR(this,'a=kin*k.question&amp;r=3&amp;i=10000009_000019fc2813&amp;u='+urlencode(this.href));\" target=\"_blank\">홍대 <mark>하이디라오</mark> 룸 예약할 때 최소인원이나 이용제한 시간 있나요?</a> </div>]"
      ]
     },
     "execution_count": 56,
     "metadata": {},
     "output_type": "execute_result"
    }
   ],
   "source": [
    "div_list = soup.find_all('div', attrs={\n",
    "    'class' : 'question_group'\n",
    "})\n",
    "div_list"
   ]
  },
  {
   "cell_type": "code",
   "execution_count": 61,
   "metadata": {},
   "outputs": [
    {
     "name": "stdout",
     "output_type": "stream",
     "text": [
      "<a class=\"api_txt_lines question_text\" href=\"https://kin.naver.com/qna/detail.naver?d1id=8&amp;dirId=8020603&amp;docId=440718964&amp;qb=7ZWY7J2065SU65287Jik&amp;enc=utf8&amp;section=kin.ext&amp;rank=1&amp;search_sort=0&amp;spq=0\" onclick=\"return goOtherCR(this,'a=kin*k.question&amp;r=1&amp;i=10000009_00001a44d674&amp;u='+urlencode(this.href));\" target=\"_blank\"><mark>하이디라오</mark> 매실 <mark>하이디라오</mark>에서 주는 매실 이거 맞나요?</a>\n",
      "<a class=\"api_txt_lines question_text\" href=\"https://kin.naver.com/qna/detail.naver?d1id=8&amp;dirId=8020604&amp;docId=436775032&amp;qb=7ZWY7J2065SU65287Jik&amp;enc=utf8&amp;section=kin.ext&amp;rank=2&amp;search_sort=0&amp;spq=0\" onclick=\"return goOtherCR(this,'a=kin*k.question&amp;r=2&amp;i=10000009_00001a08a878&amp;u='+urlencode(this.href));\" target=\"_blank\">북앤라이프 도서문화상품권 <mark>하이디라오</mark> 쓸 수 있나요?</a>\n",
      "<a class=\"api_txt_lines question_text\" href=\"https://kin.naver.com/qna/detail.naver?d1id=12&amp;dirId=120110&amp;docId=435955731&amp;qb=7ZWY7J2065SU65287Jik&amp;enc=utf8&amp;section=kin.ext&amp;rank=3&amp;search_sort=0&amp;spq=0\" onclick=\"return goOtherCR(this,'a=kin*k.question&amp;r=3&amp;i=10000009_000019fc2813&amp;u='+urlencode(this.href));\" target=\"_blank\">홍대 <mark>하이디라오</mark> 룸 예약할 때 최소인원이나 이용제한 시간 있나요?</a>\n"
     ]
    }
   ],
   "source": [
    "# a tag 만 리스트의 형태로 출력 \n",
    "for i in div_list:\n",
    "    print(i.find('a')) ## 첫번째 \"none\" 텍스트이므로 error 가 남. "
   ]
  },
  {
   "cell_type": "code",
   "execution_count": 62,
   "metadata": {},
   "outputs": [
    {
     "data": {
      "text/plain": [
       "['하이디라오 매실 하이디라오에서 주는 매실 이거 맞나요?',\n",
       " '북앤라이프 도서문화상품권 하이디라오 쓸 수 있나요?',\n",
       " '홍대 하이디라오 룸 예약할 때 최소인원이나 이용제한 시간 있나요?']"
      ]
     },
     "execution_count": 62,
     "metadata": {},
     "output_type": "execute_result"
    }
   ],
   "source": [
    "# a 태그만 리스트의 형태로 출력 \n",
    "a_list = []\n",
    "for i in div_list:\n",
    "    if i.find('a'):\n",
    "        #print(i.find('a').get_text()) ## 첫번째 \"none\" 텍스트이므로 error 가 남.\n",
    "        a_list.append(i.find('a').get_text())\n",
    "a_list"
   ]
  },
  {
   "cell_type": "code",
   "execution_count": null,
   "metadata": {},
   "outputs": [],
   "source": [
    "# 함수 생성 \n",
    "# 검색어를 매개변수로 받아와서\n",
    "# 웹드라이버에서 검색을 하고 결과를 리스트의 형태로 리턴 \n",
    "# 결과는 지식인의 타이틀을 리스트화 한 결과 "
   ]
  },
  {
   "cell_type": "code",
   "execution_count": 86,
   "metadata": {},
   "outputs": [],
   "source": [
    "import time "
   ]
  },
  {
   "cell_type": "code",
   "execution_count": 82,
   "metadata": {},
   "outputs": [],
   "source": [
    "# 1. 함수 생성 \n",
    "# 2. 웹드라이버에 검색어를 입력 \n",
    "# 3. 웹 드라이버에서 엔터키를 입력 \n",
    "# 4. 페이지의 소스코드를 변수에 입력 \n",
    "# 5 . bs 를 이용하여 html parsing  \n",
    "# 6. parsing 된 data 에서 지식인 부분 출력 \n",
    "def search_text(_search): #1 \n",
    "    element = driver.find_element(By.ID, 'query')\n",
    "    element.send_keys(_search) #2\n",
    "    element.send_keys(Keys.ENTER) #3 \n",
    "    time.sleep(1)\n",
    "    data = bs (driver.page_source,'html.parser')\n",
    "    div_list = data.find_all('div', attrs={\n",
    "        'class' : 'question_group'\n",
    "    })\n",
    "    search_list = []\n",
    "    for i in div_list:\n",
    "        if i.find('a'):\n",
    "            search_list.append(i.find('a').get_text()) \n",
    "    return search_list \n",
    "            # 7. a 태그 안에 text 들을 리스트 형태로 저장 \n",
    "            #8. text_list 를 리턴 \n"
   ]
  },
  {
   "cell_type": "code",
   "execution_count": 87,
   "metadata": {},
   "outputs": [
    {
     "data": {
      "text/plain": [
       "['파이썬 파싱이 뮈에요? 파싱이 뭐죠? 예시도 보여주세요 ㅜㅜ',\n",
       " '프로그램 파싱이란 게 뭘까요?',\n",
       " '파싱 리튬 배터리 수리 가능한가요 파싱 FS-970N 배터리 물리적 충격으로 접합부쪽 뚜껑이 분리됐어요 ㅠㅠ 다시 닫아서 테이프로 감아봐도 안되던데, 수리가 가능한가요? 정식 수입 업체에서는 배터리 소모품이라 수리가 어렵다고해서 사설로 가능한지 알아보고싶은데 정보가 없네요 ..']"
      ]
     },
     "execution_count": 87,
     "metadata": {},
     "output_type": "execute_result"
    }
   ],
   "source": [
    "search_text('파싱')"
   ]
  },
  {
   "cell_type": "code",
   "execution_count": 98,
   "metadata": {},
   "outputs": [],
   "source": [
    "# Class 형태로 웹드라이버 제어 \n",
    "# Class 선언 \n",
    "class Web():\n",
    "    def __init__(self, _url, _input):\n",
    "        self.url = _url\n",
    "        self.input = _input\n",
    "# 검색을 하는 함수 \n",
    "    def search(self,_search):\n",
    "        # 웹 드라이버를 실행 \n",
    "        self.path = '../chromedriver'\n",
    "        self.driver = webdriver.Chrome(self.path)\n",
    "        self.driver.get(self.url) # url 주소로 접속 \n",
    "        time.sleep(1)\n",
    "        # 검색어창 지정 \n",
    "        self.element = self.driver.find_element(By.ID,self.input)\n",
    "        # 검색어를 입력\n",
    "        self.element.send_keys(_search)\n",
    "        # 엔터키를 입력\n",
    "        self.element.send_keys(Keys.ENTER)\n",
    "        time.sleep(1)\n",
    "        # 해당 페이지의 html parsing 데이터 \n",
    "        self.soup = bs(self.driver.page_source, 'html.parser')\n",
    "        # 지식인 부분의 html 태그를 저장\n",
    "        self.div_list = self.soup.find_all('div', attrs={\n",
    "            'class' : 'question_group'\n",
    "        })\n",
    "        # div_list 에서 a태그의 title text 만 리스트의 형태로 출력 \n",
    "        self.result = []\n",
    "        for i in self.div_list:\n",
    "            if i.find('a'):\n",
    "                self.result.append(i.find('a').get_text())\n",
    "        self.driver.close()\n",
    "        return self.result"
   ]
  },
  {
   "cell_type": "code",
   "execution_count": 99,
   "metadata": {},
   "outputs": [],
   "source": [
    "test = Web('https://www.naver.com','query')"
   ]
  },
  {
   "cell_type": "code",
   "execution_count": 101,
   "metadata": {},
   "outputs": [
    {
     "name": "stderr",
     "output_type": "stream",
     "text": [
      "C:\\Users\\ezen\\AppData\\Local\\Temp\\ipykernel_8256\\163241829.py:12: DeprecationWarning: executable_path has been deprecated, please pass in a Service object\n",
      "  self.driver = webdriver.Chrome(self.path)\n"
     ]
    },
    {
     "data": {
      "text/plain": [
       "['파이썬 파싱이 뮈에요? 파싱이 뭐죠? 예시도 보여주세요 ㅜㅜ',\n",
       " '프로그램 파싱이란 게 뭘까요?',\n",
       " '파싱 리튬 배터리 수리 가능한가요 파싱 FS-970N 배터리 물리적 충격으로 접합부쪽 뚜껑이 분리됐어요 ㅠㅠ 다시 닫아서 테이프로 감아봐도 안되던데, 수리가 가능한가요? 정식 수입 업체에서는 배터리 소모품이라 수리가 어렵다고해서 사설로 가능한지 알아보고싶은데 정보가 없네요 ..']"
      ]
     },
     "execution_count": 101,
     "metadata": {},
     "output_type": "execute_result"
    }
   ],
   "source": [
    "test.search('파싱')"
   ]
  }
 ],
 "metadata": {
  "kernelspec": {
   "display_name": "Python 3",
   "language": "python",
   "name": "python3"
  },
  "language_info": {
   "codemirror_mode": {
    "name": "ipython",
    "version": 3
   },
   "file_extension": ".py",
   "mimetype": "text/x-python",
   "name": "python",
   "nbconvert_exporter": "python",
   "pygments_lexer": "ipython3",
   "version": "3.11.1"
  },
  "orig_nbformat": 4
 },
 "nbformat": 4,
 "nbformat_minor": 2
}
