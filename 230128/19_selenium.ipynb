{
 "cells": [
  {
   "cell_type": "code",
   "execution_count": null,
   "metadata": {},
   "outputs": [],
   "source": [
    "!pip install selenium"
   ]
  },
  {
   "cell_type": "code",
   "execution_count": null,
   "metadata": {},
   "outputs": [],
   "source": [
    "## Chrom web driver download ( chrom 버전마다 다르므로, 현재 버전 확인후 download) \n",
    "## choromdriver.exe 파일은 오른쪽 python 폴더 밑에 copy & paste 한다."
   ]
  },
  {
   "cell_type": "markdown",
   "metadata": {},
   "source": [
    "### selenium 라이브러리 \n",
    "1. 웹 어플리케이션 테스트를 위한 라이브러리\n",
    "2. python 을 이용하여 웹 브라우저를 제어하는 기능 \n",
    "3. 웹드라이버라는 별도의 프로그램 설치"
   ]
  },
  {
   "cell_type": "code",
   "execution_count": 3,
   "metadata": {},
   "outputs": [],
   "source": [
    "# 라이브러리 로드 \n",
    "from selenium import webdriver"
   ]
  },
  {
   "cell_type": "code",
   "execution_count": 10,
   "metadata": {},
   "outputs": [],
   "source": [
    "# webdriver 파일의 위치를 지정 \n",
    "# 상대 경로 \n",
    "path = '../chromedriver'\n",
    "# 절대 경로 \n",
    "#path2 = 'C:\\\\Users\\ezen\\Documents\\GitHub\\phyton\\chromedriver'"
   ]
  },
  {
   "cell_type": "code",
   "execution_count": 16,
   "metadata": {},
   "outputs": [
    {
     "name": "stderr",
     "output_type": "stream",
     "text": [
      "C:\\Users\\ezen\\AppData\\Local\\Temp\\ipykernel_8256\\1273728924.py:1: DeprecationWarning: executable_path has been deprecated, please pass in a Service object\n",
      "  driver = webdriver.Chrome(path)\n"
     ]
    }
   ],
   "source": [
    "## 웹드라이버 실행 \n",
    "driver = webdriver.Chrome(path)\n",
    "## 웹드라이버에 주소창에 네이버에 요청 \n",
    "driver.get('https://www.naver.com')"
   ]
  },
  {
   "cell_type": "code",
   "execution_count": 17,
   "metadata": {},
   "outputs": [],
   "source": [
    "from selenium.webdriver.common.by import By\n",
    "from selenium.webdriver.common.keys import Keys"
   ]
  },
  {
   "cell_type": "code",
   "execution_count": 19,
   "metadata": {},
   "outputs": [],
   "source": [
    "element = driver.find_element(By.ID, 'query') # query 라는 id 값을 가진 값을 element 변수에 담아놈\n",
    "element.send_keys(\"하이디라오\") # 네이버 검색창에 '검색어\"가 입력됨."
   ]
  },
  {
   "cell_type": "code",
   "execution_count": 20,
   "metadata": {},
   "outputs": [],
   "source": [
    "element.send_keys(Keys.ENTER)"
   ]
  },
  {
   "cell_type": "code",
   "execution_count": 22,
   "metadata": {},
   "outputs": [],
   "source": [
    "from bs4 import BeautifulSoup as bs"
   ]
  },
  {
   "cell_type": "code",
   "execution_count": 33,
   "metadata": {},
   "outputs": [],
   "source": [
    "soup = bs(driver.page_source,'html.parser') \n",
    "# driver 에 있는 html source 들을 파싱해서 soup 에 담아줌"
   ]
  },
  {
   "cell_type": "code",
   "execution_count": 32,
   "metadata": {},
   "outputs": [
    {
     "data": {
      "text/plain": [
       "[<div class=\"title_area\"> <span class=\"etc\">'하이디라오' 관련</span> <strong class=\"title\">인기 주제 둘러보기</strong> </div>,\n",
       " <div class=\"title_area\"> <a class=\"title _intent_cross_collection_trigger\" data-cr-gdid=\"SYS-0000000001676173.a0209rl4_nblog_post_223029790026\" href=\"https://in.naver.com/mangdy/contents/internal/537431819490080?query=%ED%95%98%EC%9D%B4%EB%94%94%EB%9D%BC%EC%98%A4&amp;areacode=itb_bas%2Af_other\" onclick=\"goOtherCR(this, 'a=itb_bas*f.imgtitlelink&amp;r=15&amp;i=SYS-0000000001676173.a0209rl4_nblog_post_223029790026&amp;g=%7B%22bid%22%3A%22SYS-0000000001676173%22%2C%22docRank%22%3A1%7D&amp;u='+urlencode(this.href));\" target=\"_blank\">홍대 훠궈 맛집 <mark>하이디라오</mark> 주문 꿀팁 가격</a> </div>,\n",
       " <div class=\"title_area\"> <a class=\"title _intent_cross_collection_trigger\" data-cr-gdid=\"SYS-0000000014011252.90000003_0000000000000033DB8A664C\" href=\"https://blog.naver.com/qotlrud11/222726612556\" onclick=\"goOtherCR(this, 'a=itb_bas*b.imgtitlelink&amp;r=18&amp;i=SYS-0000000014011252.90000003_0000000000000033DB8A664C&amp;g=%7B%22bid%22%3A%22SYS-0000000014011252%22%2C%22docRank%22%3A1%7D&amp;u='+urlencode(this.href));\" target=\"_blank\"><mark>하이디라오</mark> 홍대 가격은 조금 비싸지만..</a> </div>,\n",
       " <div class=\"title_area\"> <a class=\"title _intent_cross_collection_trigger\" data-cr-gdid=\"SYS-0000000013969870.90000003_0000000000000033DAFE15D4\" href=\"https://blog.naver.com/mint_pumpkin/222717416916\" onclick=\"goOtherCR(this, 'a=itb_bas*b.imgtitlelink&amp;r=21&amp;i=SYS-0000000013969870.90000003_0000000000000033DAFE15D4&amp;g=%7B%22bid%22%3A%22SYS-0000000013969870%22%2C%22docRank%22%3A1%7D&amp;u='+urlencode(this.href));\" target=\"_blank\">홍대 <mark>하이디라오</mark>에서 첫 훠궈 입문. 그리고 혼밥도 해보다.(주문,가격,소스바)</a> </div>]"
      ]
     },
     "execution_count": 32,
     "metadata": {},
     "output_type": "execute_result"
    }
   ],
   "source": [
    "div_list = soup.find_all('div', attrs={\n",
    "    'class' : 'title_area'\n",
    "})\n",
    "div_list"
   ]
  },
  {
   "cell_type": "code",
   "execution_count": 34,
   "metadata": {},
   "outputs": [
    {
     "name": "stdout",
     "output_type": "stream",
     "text": [
      "<div class=\"title_area\"> <span class=\"etc\">'하이디라오' 관련</span> <strong class=\"title\">인기 주제 둘러보기</strong> </div>\n",
      "<div class=\"title_area\"> <a class=\"title _intent_cross_collection_trigger\" data-cr-gdid=\"SYS-0000000001676173.a0209rl4_nblog_post_223029790026\" href=\"https://in.naver.com/mangdy/contents/internal/537431819490080?query=%ED%95%98%EC%9D%B4%EB%94%94%EB%9D%BC%EC%98%A4&amp;areacode=itb_bas%2Af_other\" onclick=\"goOtherCR(this, 'a=itb_bas*f.imgtitlelink&amp;r=15&amp;i=SYS-0000000001676173.a0209rl4_nblog_post_223029790026&amp;g=%7B%22bid%22%3A%22SYS-0000000001676173%22%2C%22docRank%22%3A1%7D&amp;u='+urlencode(this.href));\" target=\"_blank\">홍대 훠궈 맛집 <mark>하이디라오</mark> 주문 꿀팁 가격</a> </div>\n",
      "<div class=\"title_area\"> <a class=\"title _intent_cross_collection_trigger\" data-cr-gdid=\"SYS-0000000014011252.90000003_0000000000000033DB8A664C\" href=\"https://blog.naver.com/qotlrud11/222726612556\" onclick=\"goOtherCR(this, 'a=itb_bas*b.imgtitlelink&amp;r=18&amp;i=SYS-0000000014011252.90000003_0000000000000033DB8A664C&amp;g=%7B%22bid%22%3A%22SYS-0000000014011252%22%2C%22docRank%22%3A1%7D&amp;u='+urlencode(this.href));\" target=\"_blank\"><mark>하이디라오</mark> 홍대 가격은 조금 비싸지만..</a> </div>\n",
      "<div class=\"title_area\"> <a class=\"title _intent_cross_collection_trigger\" data-cr-gdid=\"SYS-0000000013969870.90000003_0000000000000033DAFE15D4\" href=\"https://blog.naver.com/mint_pumpkin/222717416916\" onclick=\"goOtherCR(this, 'a=itb_bas*b.imgtitlelink&amp;r=21&amp;i=SYS-0000000013969870.90000003_0000000000000033DAFE15D4&amp;g=%7B%22bid%22%3A%22SYS-0000000013969870%22%2C%22docRank%22%3A1%7D&amp;u='+urlencode(this.href));\" target=\"_blank\">홍대 <mark>하이디라오</mark>에서 첫 훠궈 입문. 그리고 혼밥도 해보다.(주문,가격,소스바)</a> </div>\n"
     ]
    }
   ],
   "source": [
    "# a tag 만 리스트의 형태로 출력 \n",
    "for i in div_list:\n",
    "    print(i)"
   ]
  }
 ],
 "metadata": {
  "kernelspec": {
   "display_name": "Python 3",
   "language": "python",
   "name": "python3"
  },
  "language_info": {
   "codemirror_mode": {
    "name": "ipython",
    "version": 3
   },
   "file_extension": ".py",
   "mimetype": "text/x-python",
   "name": "python",
   "nbconvert_exporter": "python",
   "pygments_lexer": "ipython3",
   "version": "3.11.1"
  },
  "orig_nbformat": 4
 },
 "nbformat": 4,
 "nbformat_minor": 2
}
