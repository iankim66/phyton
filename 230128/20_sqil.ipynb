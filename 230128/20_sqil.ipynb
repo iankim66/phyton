{
 "cells": [
  {
   "attachments": {},
   "cell_type": "markdown",
   "metadata": {},
   "source": [
    "## my sql download \n",
    "1. https://dev.mysql.com/downloads/file/?id=516927.\n",
    "2. custom version 실행 .\n",
    "3. sql server & sql workbench  만 check 한후에 설치실행\n",
    "3. 환경변수( mysql.exe 가 있는곳으로 folder 설정 ) 설정후, cmd 창에서 mysql -u root -p 를 친다.\n",
    "4. mysql> CREATE DATABASE test; 라고 한뒤에 꼭 \";\" 를 뒤에 붙여줌\n",
    "5. mysql>USE test; \n",
    "6. mysql>Database changed.\n",
    "7. mysql>CREATE TABLE user(\n",
    "    ->id varchar(16) primary key,\n",
    "    ->password varchar(16) NOT NULL,\n",
    "    ->name varcha(8)\n",
    "    ->gender int);\n",
    "8. Query OK, 0 rows affected(0.02 sec) \n",
    "9. mysql> INSERT INTO user # user 라는 파일에 data 를 집어 넣음\n",
    "   -> id\n",
    "   ->passwor,\n",
    "   ->name,\n",
    "   ->gender\n",
    "   ->VALUES('test','1234','test',1);"
   ]
  },
  {
   "cell_type": "code",
   "execution_count": null,
   "metadata": {},
   "outputs": [],
   "source": []
  }
 ],
 "metadata": {
  "kernelspec": {
   "display_name": "Python 3",
   "language": "python",
   "name": "python3"
  },
  "language_info": {
   "codemirror_mode": {
    "name": "ipython",
    "version": 3
   },
   "file_extension": ".py",
   "mimetype": "text/x-python",
   "name": "python",
   "nbconvert_exporter": "python",
   "pygments_lexer": "ipython3",
   "version": "3.11.1"
  },
  "orig_nbformat": 4
 },
 "nbformat": 4,
 "nbformat_minor": 2
}
