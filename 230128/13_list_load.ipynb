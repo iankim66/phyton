{
 "cells": [
  {
   "cell_type": "code",
   "execution_count": 17,
   "metadata": {},
   "outputs": [],
   "source": [
    "import os\n",
    "import pandas as pd"
   ]
  },
  {
   "cell_type": "code",
   "execution_count": 24,
   "metadata": {},
   "outputs": [
    {
     "data": {
      "text/plain": [
       "['201701_expense_list.csv',\n",
       " '201702_expense_list.csv',\n",
       " '201703_expense_list.csv',\n",
       " '201704_expense_list.csv',\n",
       " '201705_expense_list.csv',\n",
       " '201706_expense_list.csv',\n",
       " '201707_expense_list.csv',\n",
       " '201708_expense_list.csv',\n",
       " '201709_expense_list.csv',\n",
       " '201710_expense_list.csv',\n",
       " '201711_expense_list.csv',\n",
       " '201712_expense_list.csv']"
      ]
     },
     "execution_count": 24,
     "metadata": {},
     "output_type": "execute_result"
    }
   ],
   "source": [
    "# 파일 리스트 생성 \n",
    "## listdir 이라는 함수는 경로에 있는 파일들로 리스트를 만들어주겠다 라는 함수\n",
    "os.listdir(\"../csv/2017\")"
   ]
  },
  {
   "cell_type": "code",
   "execution_count": 25,
   "metadata": {},
   "outputs": [],
   "source": [
    "file_list = os.listdir(\"../csv/2017\")"
   ]
  },
  {
   "cell_type": "code",
   "execution_count": 20,
   "metadata": {},
   "outputs": [],
   "source": [
    "## 반복문을 이용해서 파일명들을 각각 print \n",
    "## 각각 파일들을 pandas 를 이용해서, 파일을 로드하여 하나의 데이터프레임으로 결합 \n",
    "## 결합은 유니언 결합 ( concat ) 을 사용하여 결합 \n",
    "## hint : pd.read_csv ( 파일의 경로 + 파일의 이름)\n",
    "## 비어있는 데이터프레임을 생성 \n",
    "## 반복문에서 read_csv --> pd.concat() "
   ]
  },
  {
   "cell_type": "code",
   "execution_count": 26,
   "metadata": {},
   "outputs": [
    {
     "name": "stdout",
     "output_type": "stream",
     "text": [
      "201701_expense_list.csv\n",
      "201702_expense_list.csv\n",
      "201703_expense_list.csv\n",
      "201704_expense_list.csv\n",
      "201705_expense_list.csv\n",
      "201706_expense_list.csv\n",
      "201707_expense_list.csv\n",
      "201708_expense_list.csv\n",
      "201709_expense_list.csv\n",
      "201710_expense_list.csv\n",
      "201711_expense_list.csv\n",
      "201712_expense_list.csv\n"
     ]
    }
   ],
   "source": [
    "# case 1 ( range 사용 )  ## range 안의 갯수를 반복시킴 \n",
    "# for i in range ( 0, len(file_list), 1): ## file list 의 길이를 적어주면, list 안의 항목갯수가 자동생성됨\n",
    "    #print(file_list[i])\n",
    "\n",
    "# case 2 ( list 사용) ## for_list 자체를 그대로 반복해서 사용함. \n",
    "for i in file_list:\n",
    "    print(i)"
   ]
  },
  {
   "cell_type": "code",
   "execution_count": 33,
   "metadata": {},
   "outputs": [
    {
     "name": "stdout",
     "output_type": "stream",
     "text": [
      "../CSV/2017/201712_expense_list.csv\n"
     ]
    }
   ],
   "source": [
    "## csv 를 데이터프레임으로 변경 \n",
    "## pd.read_csv (파일경로 )\n",
    "print('../CSV/2017/' +'201701_expense_list.csv')\n",
    "#pd.read_csv('../CSV/2017/' + file_list[0])"
   ]
  },
  {
   "cell_type": "code",
   "execution_count": 42,
   "metadata": {},
   "outputs": [
    {
     "name": "stdout",
     "output_type": "stream",
     "text": [
      "201701_expense_list.csv\n",
      "201702_expense_list.csv\n",
      "201703_expense_list.csv\n",
      "201704_expense_list.csv\n",
      "201705_expense_list.csv\n",
      "201706_expense_list.csv\n",
      "201707_expense_list.csv\n",
      "201708_expense_list.csv\n",
      "201709_expense_list.csv\n",
      "201710_expense_list.csv\n",
      "201711_expense_list.csv\n",
      "201712_expense_list.csv\n"
     ]
    }
   ],
   "source": [
    "file_path = \"../CSV/2017/\"            # 문자열을 변수에 담아준다.\n",
    "for i in file_list:   \n",
    "    print(file_path + i)              # file_list 를 반복 --> 리스트 항목 하나하나씩 i 에 넣어준다. \n",
    "    df = pd.read_csv(file_path + i)   # file_path 문자열과 i를 합친 문자열(의 csv 파일을 dataframe 에 최소화하여 저장.\n",
    "\n",
    " # 위의 for 문은 아래의 의미임 \n",
    "# df = pd.read_csv (file_path + file_list[0]) \n",
    "# df = pd.read_csv (file_path + file_list[1]) \n",
    "# df = pd.read_csv (file_path + file_list[2]) \n",
    "# df = pd.read_csv (file_path + file_list[3]) \n",
    "# df = pd.read_csv (file_path + file_list[4]) \n",
    "# ..........................................\n",
    "# df = pd.read_csv (file_path + file_list[11]) \n",
    "# 결국에는 df 에 마지막 파일path 의 파일만 읽어 오게됨. \n",
    "\n",
    "\n"
   ]
  },
  {
   "cell_type": "code",
   "execution_count": null,
   "metadata": {},
   "outputs": [],
   "source": [
    "file_path = \"../CSV/2017/\"    \n",
    "total_df = pd.DataFrame()     # 비어있는 데이터프레임을 total_df 에 저장.        \n",
    "for i in file_list:   \n",
    "    print(file_path + i)              \n",
    "    df = pd.read_csv(file_path + i)\n",
    "    # 데이터 프레임화하여 df 라는 변수에 저장.\n",
    "    total_df = pd.concat ([total_df, df], axis='rows').reset_index(drop =True) # axis = 0 으로 사용해도 상관없음.\n",
    "total_df.info()"
   ]
  },
  {
   "cell_type": "code",
   "execution_count": null,
   "metadata": {},
   "outputs": [],
   "source": [
    "## 2021 directory 안의 csv 화일 확장자의 파일만 뽑아서 datafram 화일하나로 통합시키기. \n",
    "file_list2 = os.listdir(\"../CSV/2021\")   \n",
    "        "
   ]
  },
  {
   "cell_type": "code",
   "execution_count": null,
   "metadata": {},
   "outputs": [],
   "source": [
    "#total_df2 = pd.DataFrame()\n",
    "for i in file_list2 :         ## 또는  for i rnage (leng(file_list2)):\n",
    "    print(i.endswith('.csv'))       ## 마지막에 있는 글자를 비교하는 함수 연산자임  "
   ]
  },
  {
   "cell_type": "code",
   "execution_count": null,
   "metadata": {},
   "outputs": [],
   "source": [
    "for i in file_list2 :\n",
    "    if i.endswith('.csv'):\n",
    "        print(i)"
   ]
  },
  {
   "cell_type": "code",
   "execution_count": null,
   "metadata": {},
   "outputs": [],
   "source": [
    "file_path2 = '../csv/2021/'"
   ]
  },
  {
   "cell_type": "code",
   "execution_count": 91,
   "metadata": {},
   "outputs": [],
   "source": [
    "## 함수 생성 \n",
    "## 매개변수 2개 patth, end_string \n",
    "def list_df(path2, end_string):\n",
    "    # file_list 생성 \n",
    "    file_list = os.listdir(path2)\n",
    "    # 확장자가 end_string 과 같은 경우의 리스트만 추출. \n",
    "    ## Case 1\n",
    "    file_list2 = [] \n",
    "    for i in file_list:\n",
    "        if i.endswith (end_string):\n",
    "            file_list2.append(i)\n",
    "    ## case 2 \n",
    "    ## file_list3 = [ i for i in file_list if i.endswith(end_string)]\n",
    "    ## print(file_list2 == file_list3)\n",
    "# file_list2 의 리스트항목들을 데이터프레임화 하여, \n",
    "# 하나의 데이터프레임으로 결합. \n",
    "    total_df = pd.DataFrame()\n",
    "# file_list2 의 항목들을 가지고 반복문 실행 \n",
    "    for i in file_list2:\n",
    "    ## path 는 매개변수, i는 file_list2 항목의 값 \n",
    "        if end_string == '.csv':\n",
    "            df = pd.read_csv(path2 + i)\n",
    "        elif end_string == '.json':\n",
    "            df = pd.read_json(path2 + i)\n",
    "        elif (end_string =='.xlsx') | (end_string == '.xls'):\n",
    "            df = pd.read_excel(path2 + i)\n",
    "        else:\n",
    "           return \"확장자가 잘못 입력되었습니다. \" \n",
    "        ## 불러온 데이터 프레임을 total_df 에 단순한 행 결합 \n",
    "        total_df = pd.concat([total_df, df] , axis = 0 , ignore_index=True)\n",
    "    return total_df # 합쳐진 데이터 프레임을 리턴"
   ]
  },
  {
   "cell_type": "code",
   "execution_count": null,
   "metadata": {},
   "outputs": [],
   "source": [
    "list_df('../CSV/2017/','.csv')"
   ]
  },
  {
   "cell_type": "code",
   "execution_count": 83,
   "metadata": {},
   "outputs": [],
   "source": [
    "df_2017 = list_df('../CSV/2017/','/csv')\n",
    "df_2018 = list_df('../CSV/2018/','.csv')"
   ]
  },
  {
   "cell_type": "code",
   "execution_count": 87,
   "metadata": {},
   "outputs": [
    {
     "name": "stdout",
     "output_type": "stream",
     "text": [
      "<class 'pandas.core.frame.DataFrame'>\n",
      "RangeIndex: 6392 entries, 0 to 6391\n",
      "Data columns (total 20 columns):\n",
      " #   Column             Non-Null Count  Dtype  \n",
      "---  ------             --------------  -----  \n",
      " 0   nid                6392 non-null   int64  \n",
      " 1   title              6392 non-null   object \n",
      " 2   url                6392 non-null   object \n",
      " 3   dept_nm_lvl_1      6392 non-null   object \n",
      " 4   dept_nm_lvl_2      6392 non-null   object \n",
      " 5   dept_nm_lvl_3      6392 non-null   object \n",
      " 6   dept_nm_lvl_4      6392 non-null   object \n",
      " 7   dept_nm_lvl_5      6392 non-null   object \n",
      " 8   exec_yr            6392 non-null   int64  \n",
      " 9   exec_month         6392 non-null   int64  \n",
      " 10  expense_budget     318 non-null    float64\n",
      " 11  expense_execution  306 non-null    float64\n",
      " 12  category           6392 non-null   object \n",
      " 13  dept_nm_full       6392 non-null   object \n",
      " 14  exec_dt            6392 non-null   object \n",
      " 15  exec_loc           6392 non-null   object \n",
      " 16  exec_purpose       6392 non-null   object \n",
      " 17  target_nm          6392 non-null   object \n",
      " 18  payment_method     6392 non-null   object \n",
      " 19  exec_amount        6392 non-null   int64  \n",
      "dtypes: float64(2), int64(4), object(14)\n",
      "memory usage: 998.9+ KB\n"
     ]
    }
   ],
   "source": [
    "## json 데이터를 데이터프레임으로 로드 \n",
    "json_data = pd.read_json(\"../CSV/2019/201901_expense_list.json\")\n",
    "json_data.info()"
   ]
  },
  {
   "cell_type": "code",
   "execution_count": 88,
   "metadata": {},
   "outputs": [
    {
     "name": "stdout",
     "output_type": "stream",
     "text": [
      "Collecting openpyxl\n",
      "  Downloading openpyxl-3.1.1-py2.py3-none-any.whl (249 kB)\n",
      "     -------------------------------------- 249.8/249.8 kB 7.7 MB/s eta 0:00:00\n",
      "Collecting et-xmlfile\n",
      "  Downloading et_xmlfile-1.1.0-py3-none-any.whl (4.7 kB)\n",
      "Installing collected packages: et-xmlfile, openpyxl\n",
      "Successfully installed et-xmlfile-1.1.0 openpyxl-3.1.1\n"
     ]
    },
    {
     "name": "stderr",
     "output_type": "stream",
     "text": [
      "\n",
      "[notice] A new release of pip available: 22.3.1 -> 23.0.1\n",
      "[notice] To update, run: python.exe -m pip install --upgrade pip\n"
     ]
    }
   ],
   "source": [
    "# xlsx 파일을 로드하기 위한 엔지 라이브러리를 설치 \n",
    "!pip install openpyxl"
   ]
  },
  {
   "cell_type": "code",
   "execution_count": null,
   "metadata": {},
   "outputs": [],
   "source": [
    "## 엑셀 데이터를 데이터프레임으로 로드 \n",
    "excel_data = pd.read_excel(\"../CSV/2020/202001_expense_list.xlsx\")\n",
    "excel_data.info()"
   ]
  },
  {
   "cell_type": "code",
   "execution_count": null,
   "metadata": {},
   "outputs": [],
   "source": []
  }
 ],
 "metadata": {
  "kernelspec": {
   "display_name": "Python 3",
   "language": "python",
   "name": "python3"
  },
  "language_info": {
   "codemirror_mode": {
    "name": "ipython",
    "version": 3
   },
   "file_extension": ".py",
   "mimetype": "text/x-python",
   "name": "python",
   "nbconvert_exporter": "python",
   "pygments_lexer": "ipython3",
   "version": "3.11.1"
  },
  "orig_nbformat": 4,
  "vscode": {
   "interpreter": {
    "hash": "c261aea317cc0286b3b3261fbba9abdec21eaa57589985bb7a274bf54d6cc0a7"
   }
  }
 },
 "nbformat": 4,
 "nbformat_minor": 2
}
