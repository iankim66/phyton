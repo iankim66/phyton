{
 "cells": [
  {
   "cell_type": "code",
   "execution_count": null,
   "metadata": {},
   "outputs": [],
   "source": [
    "## servicekey = \"dtbWOdJ%2FCz5HE0DGLU%2BCRPe7pOW0NIQBUcGEqsHZaTRiYCI%2F5%2BzugwzQjcvuId7NPdg6rUiW%2Bft3fm7yqyD4pw%3D%3D\"\n",
    "## url = \"http://openapi.data.go.kr/openapi/service/rest/Covid19/getCovid19InfStateJson\""
   ]
  },
  {
   "cell_type": "code",
   "execution_count": 1,
   "metadata": {},
   "outputs": [
    {
     "name": "stdout",
     "output_type": "stream",
     "text": [
      "Collecting requests\n",
      "  Downloading requests-2.28.2-py3-none-any.whl (62 kB)\n",
      "     ---------------------------------------- 62.8/62.8 kB 3.3 MB/s eta 0:00:00\n",
      "Collecting xmltodict\n",
      "  Downloading xmltodict-0.13.0-py2.py3-none-any.whl (10.0 kB)\n",
      "Collecting charset-normalizer<4,>=2\n",
      "  Downloading charset_normalizer-3.0.1-cp311-cp311-win_amd64.whl (96 kB)\n",
      "     ---------------------------------------- 96.0/96.0 kB 5.4 MB/s eta 0:00:00\n",
      "Collecting idna<4,>=2.5\n",
      "  Downloading idna-3.4-py3-none-any.whl (61 kB)\n",
      "     ---------------------------------------- 61.5/61.5 kB 3.2 MB/s eta 0:00:00\n",
      "Collecting urllib3<1.27,>=1.21.1\n",
      "  Downloading urllib3-1.26.14-py2.py3-none-any.whl (140 kB)\n",
      "     ---------------------------------------- 140.6/140.6 kB ? eta 0:00:00\n",
      "Collecting certifi>=2017.4.17\n",
      "  Downloading certifi-2022.12.7-py3-none-any.whl (155 kB)\n",
      "     -------------------------------------- 155.3/155.3 kB 4.7 MB/s eta 0:00:00\n",
      "Installing collected packages: charset-normalizer, xmltodict, urllib3, idna, certifi, requests\n",
      "Successfully installed certifi-2022.12.7 charset-normalizer-3.0.1 idna-3.4 requests-2.28.2 urllib3-1.26.14 xmltodict-0.13.0\n"
     ]
    },
    {
     "name": "stderr",
     "output_type": "stream",
     "text": [
      "\n",
      "[notice] A new release of pip available: 22.3.1 -> 23.0\n",
      "[notice] To update, run: python.exe -m pip install --upgrade pip\n"
     ]
    }
   ],
   "source": [
    "!pip install requests xmltodict  ## 두가지 lib 를 연속해서 사용해서 install 함"
   ]
  },
  {
   "cell_type": "code",
   "execution_count": 3,
   "metadata": {},
   "outputs": [],
   "source": [
    "### openapi 라이브러리 로드 \n",
    "import requests\n",
    "from urllib import parse\n",
    "import xmltodict\n",
    "import pandas as pd "
   ]
  },
  {
   "cell_type": "code",
   "execution_count": null,
   "metadata": {},
   "outputs": [],
   "source": [
    "## openapi 를 이용해서 서버와 통신하여 데이터를 가져오는 작업 \n",
    "\n",
    "## 어는 api 에 접속할지 url 변수를 생성 \n",
    "url = \"http://openapi.data.go.kr/openapi/service/rest/Covid19/getCovid19InfStateJson\" \n",
    "\n",
    "## 공공 데이터포털에서 주소와 함께 보내야 되는 요청 변수 \n",
    "service_key = \"dtbWOdJ%2FCz5HE0DGLU%2BCRPe7pOW0NIQBUcGEqsHZaTRiYCI%2F5%2BzugwzQjcvuId7NPdg6rUiW%2Bft3fm7yqyD4pw%3D%3D\"\n",
    "## \"%2F\" 를 특수 python 함수로 인식하므로, 이것을 텍스트로 인식하게 하는 unquote 함수를 넣어 줘야함\n",
    "param = { \n",
    "    'serviceKey' : parse.unquote(service_key), \n",
    "    ## unquote 는 문자열을 요청변수화 시키는 함수 \n",
    "    'pageNo': '1',  ## 페이지 번호\n",
    "    'numOfRows' : '5000', ## 페이지당 데이터의 수 \n",
    "    'startCreateDt' : '20220101', ## 데이터의 시작일자 \n",
    "    'endCreateDt' : '20230210' ## 데이터의 마지막 일자. \n",
    "}\n",
    "\n",
    "## 서버에게 요청 \n",
    "response = requests.get(url, params=param) # 서버에게 response 를 요청하는데, param 값을 params 에 넣어서 \\\n",
    "#url 에 명시된 data 값을 달라고 요청함 \n",
    "## response 는 xml 형태의 데이터 \n",
    "\n",
    "## xml 데이터를 dict 형태로 변환 하여, result 값에 넣음. 여기서 parse 함수는 기존의 server 안의 content 를 가져온다는..\n",
    "result = xmltodict.parse(response.content) ## response 를 content 의 내용을 xml 을 dict 형태로 변환\n",
    "print(result)  ## 출력된물을 지워주는 ... 셀출력 지우기( 너무 길어서..)"
   ]
  },
  {
   "cell_type": "code",
   "execution_count": 12,
   "metadata": {},
   "outputs": [],
   "source": [
    "## results 의 결과안에 response 안에 body 안에 \n",
    "## items 안에 item 의 데이터 \n",
    "result['response']['body']['items']['item']\n",
    "rows = result['response']['body']['items']['item'] ## result 라는 dict 형태의 data 값을 rows 변수에 넣어줌 "
   ]
  },
  {
   "cell_type": "code",
   "execution_count": 17,
   "metadata": {},
   "outputs": [
    {
     "data": {
      "text/html": [
       "<div>\n",
       "<style scoped>\n",
       "    .dataframe tbody tr th:only-of-type {\n",
       "        vertical-align: middle;\n",
       "    }\n",
       "\n",
       "    .dataframe tbody tr th {\n",
       "        vertical-align: top;\n",
       "    }\n",
       "\n",
       "    .dataframe thead th {\n",
       "        text-align: right;\n",
       "    }\n",
       "</style>\n",
       "<table border=\"1\" class=\"dataframe\">\n",
       "  <thead>\n",
       "    <tr style=\"text-align: right;\">\n",
       "      <th></th>\n",
       "      <th>createDt</th>\n",
       "      <th>deathCnt</th>\n",
       "      <th>decideCnt</th>\n",
       "      <th>seq</th>\n",
       "      <th>stateDt</th>\n",
       "      <th>stateTime</th>\n",
       "      <th>updateDt</th>\n",
       "      <th>accExamCnt</th>\n",
       "    </tr>\n",
       "  </thead>\n",
       "  <tbody>\n",
       "    <tr>\n",
       "      <th>0</th>\n",
       "      <td>2023-02-10 04:22:09.0</td>\n",
       "      <td>33697</td>\n",
       "      <td>30325343</td>\n",
       "      <td>1159</td>\n",
       "      <td>20230210</td>\n",
       "      <td>00:00</td>\n",
       "      <td>2023-02-11 06:02:40.0</td>\n",
       "      <td>NaN</td>\n",
       "    </tr>\n",
       "    <tr>\n",
       "      <th>1</th>\n",
       "      <td>2023-02-09 00:13:08.0</td>\n",
       "      <td>33680</td>\n",
       "      <td>30311839</td>\n",
       "      <td>1158</td>\n",
       "      <td>20230209</td>\n",
       "      <td>00:00</td>\n",
       "      <td>2023-02-11 06:03:21.0</td>\n",
       "      <td>NaN</td>\n",
       "    </tr>\n",
       "    <tr>\n",
       "      <th>2</th>\n",
       "      <td>2023-02-08 00:10:49.0</td>\n",
       "      <td>33646</td>\n",
       "      <td>30297177</td>\n",
       "      <td>1157</td>\n",
       "      <td>20230208</td>\n",
       "      <td>00:00</td>\n",
       "      <td>2023-02-11 06:03:54.0</td>\n",
       "      <td>NaN</td>\n",
       "    </tr>\n",
       "    <tr>\n",
       "      <th>3</th>\n",
       "      <td>2023-02-07 04:25:43.0</td>\n",
       "      <td>33624</td>\n",
       "      <td>30279250</td>\n",
       "      <td>1156</td>\n",
       "      <td>20230207</td>\n",
       "      <td>00:00</td>\n",
       "      <td>2023-02-11 06:04:17.0</td>\n",
       "      <td>NaN</td>\n",
       "    </tr>\n",
       "    <tr>\n",
       "      <th>4</th>\n",
       "      <td>2023-02-06 04:20:35.0</td>\n",
       "      <td>33614</td>\n",
       "      <td>30263138</td>\n",
       "      <td>1155</td>\n",
       "      <td>20230206</td>\n",
       "      <td>00:00</td>\n",
       "      <td>2023-02-11 06:04:43.0</td>\n",
       "      <td>NaN</td>\n",
       "    </tr>\n",
       "  </tbody>\n",
       "</table>\n",
       "</div>"
      ],
      "text/plain": [
       "                createDt deathCnt decideCnt   seq   stateDt stateTime  \\\n",
       "0  2023-02-10 04:22:09.0    33697  30325343  1159  20230210     00:00   \n",
       "1  2023-02-09 00:13:08.0    33680  30311839  1158  20230209     00:00   \n",
       "2  2023-02-08 00:10:49.0    33646  30297177  1157  20230208     00:00   \n",
       "3  2023-02-07 04:25:43.0    33624  30279250  1156  20230207     00:00   \n",
       "4  2023-02-06 04:20:35.0    33614  30263138  1155  20230206     00:00   \n",
       "\n",
       "                updateDt accExamCnt  \n",
       "0  2023-02-11 06:02:40.0        NaN  \n",
       "1  2023-02-11 06:03:21.0        NaN  \n",
       "2  2023-02-11 06:03:54.0        NaN  \n",
       "3  2023-02-11 06:04:17.0        NaN  \n",
       "4  2023-02-11 06:04:43.0        NaN  "
      ]
     },
     "execution_count": 17,
     "metadata": {},
     "output_type": "execute_result"
    }
   ],
   "source": [
    "df = pd.DataFrame(rows)  ## dict 형태의 rows 값을 dataFrame 으로 만들어 준다. \n",
    "df.head()"
   ]
  },
  {
   "cell_type": "code",
   "execution_count": 18,
   "metadata": {},
   "outputs": [],
   "source": [
    "## pandas 를 이용하여 csv 로 파일 저장 \n",
    "df.to_csv(\"corona.csv\", encoding = 'UTF-8')"
   ]
  }
 ],
 "metadata": {
  "kernelspec": {
   "display_name": "Python 3",
   "language": "python",
   "name": "python3"
  },
  "language_info": {
   "codemirror_mode": {
    "name": "ipython",
    "version": 3
   },
   "file_extension": ".py",
   "mimetype": "text/x-python",
   "name": "python",
   "nbconvert_exporter": "python",
   "pygments_lexer": "ipython3",
   "version": "3.11.1"
  },
  "orig_nbformat": 4,
  "vscode": {
   "interpreter": {
    "hash": "c261aea317cc0286b3b3261fbba9abdec21eaa57589985bb7a274bf54d6cc0a7"
   }
  }
 },
 "nbformat": 4,
 "nbformat_minor": 2
}
