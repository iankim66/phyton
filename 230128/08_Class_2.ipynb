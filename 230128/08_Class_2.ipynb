{
 "cells": [
  {
   "attachments": {},
   "cell_type": "markdown",
   "metadata": {},
   "source": [
    "### class \n",
    "1. User 클래스 생성 \n",
    "   - 생성자 함수는 유저 정보 입력 ( 이름, 휴대폰번호, 생년월일)\n",
    "   - info() 함수를 생성 : 유저의 정보를 출력 \n",
    "2. Wallet 클래스 새성 \n",
    "   - User 를 상속 \n",
    "   - 생성자 함수는 소유자, 지갑 브랜드, 지갑의 가치, 잔액(0) 입력 \n",
    "   - work() 함수를 생성 : 일의 종류는 'TM', 'Alba','Serving' 이고 TM 을 하는 경우 지갑의 잔액이 5000 증가, Alba 를 하는 경우\n",
    "     잔액 10000 증가, Serving 을 하는 경우 잔액이 15000 증가. \n",
    "   - wallet_info() 함수를 생성 : 지갑의 소유자 정보와 잔액을 출력"
   ]
  },
  {
   "cell_type": "code",
   "execution_count": 45,
   "metadata": {},
   "outputs": [],
   "source": [
    "## User 클래스 선언 \n",
    "class User():\n",
    "    ## 생성자 함수인 __init__ 생성\n",
    "    def __init__ (self,_name,_phone,_birth):\n",
    "        self.name = _name\n",
    "        self.phone = _phone\n",
    "        self.birth = _birth\n",
    "    ## User 의 정보를 출력하는 method 함수 생성 \n",
    "    def info(self):\n",
    "        self.result = [self.name,self.phone,self.birth]\n",
    "        return self.result"
   ]
  },
  {
   "cell_type": "code",
   "execution_count": 46,
   "metadata": {},
   "outputs": [
    {
     "name": "stdout",
     "output_type": "stream",
     "text": [
      "['test', '012039485', '740825']\n",
      "['test2', '000394858', '850130']\n"
     ]
    }
   ],
   "source": [
    "user1 = User('test','012039485','740825')\n",
    "user2 = User('test2','000394858','850130')\n",
    "U1 = user1.info()\n",
    "print(U1)\n",
    "U2 = user2.info()\n",
    "print(U2)"
   ]
  },
  {
   "cell_type": "code",
   "execution_count": 47,
   "metadata": {},
   "outputs": [],
   "source": [
    "## Wallet 클래스 선언 \n",
    "class Wallet(User):\n",
    "    ## 생성자 함수 생성 ( Attribut 값 5개 생성)\n",
    "    def __init__(self, _name,_phone,_birth,_brand,_value,_balance = 0):  \n",
    "        ## 부모 클래스의 생성자 함수를 실행\n",
    "        super().__init__(_name,_phone,_birth)\n",
    "        self.brand = _brand\n",
    "        self.value = _value\n",
    "        self.balance = _balance # 초기값 생성 (위에..)\n",
    "    \n",
    "    ## work() 함수 생성 --> 일의 종류 \n",
    "    def work(self, _work_type):\n",
    "        if _work_type == 'TM': \n",
    "            self.cost = 5000\n",
    "        elif _work_type == 'Alba':\n",
    "            self.cost = 10000 \n",
    "        elif _work_type == 'Serving':\n",
    "            self.cost ==  15000 \n",
    "        else : \n",
    "            return 'work_type이 맞지 않습니다.'\n",
    "        ## 잔액변경 \n",
    "        self.balance += self.cost\n",
    "        return f\"{_work_type} 일을 성공하였습니다.\\\n",
    "                현재 잔액은{self.balance} 입니다.\"  \n",
    "    \n",
    "    ## 지갑의 정보를 출력하는 함수  \n",
    "    def wallet_info(self):\n",
    "        #print(f\"지갑의 소유자는 {self.name}\")\n",
    "        #print(f\"현재 잔액은 {self.balance}\")\n",
    "        ## f 함수는 {} 중괄호 안의 변수에 값을 넣어서 반환해 준다. \n",
    "        print(\"지갑의 소유자는\"+ str(self.name))\n",
    "        print(\"현재 잔액은 \"+ str(self.balance))      "
   ]
  },
  {
   "cell_type": "code",
   "execution_count": 48,
   "metadata": {},
   "outputs": [],
   "source": [
    "wallet1 = Wallet('test','01039485884','804049','gucci',1000000)\n",
    "wallet2 = Wallet('test2','01055541260','704011','channel',5000000)"
   ]
  },
  {
   "cell_type": "code",
   "execution_count": 49,
   "metadata": {},
   "outputs": [
    {
     "name": "stdout",
     "output_type": "stream",
     "text": [
      "지갑의 소유자는test\n",
      "현재 잔액은 0\n"
     ]
    }
   ],
   "source": [
    "wallet1.wallet_info()"
   ]
  },
  {
   "cell_type": "code",
   "execution_count": 50,
   "metadata": {},
   "outputs": [
    {
     "name": "stdout",
     "output_type": "stream",
     "text": [
      "지갑의 소유자는test2\n",
      "현재 잔액은 0\n"
     ]
    }
   ],
   "source": [
    "wallet2.wallet_info()"
   ]
  },
  {
   "cell_type": "code",
   "execution_count": 51,
   "metadata": {},
   "outputs": [
    {
     "data": {
      "text/plain": [
       "'work_type이 맞지 않습니다.'"
      ]
     },
     "execution_count": 51,
     "metadata": {},
     "output_type": "execute_result"
    }
   ],
   "source": [
    "wallet1.work('TM')\n",
    "wallet1.work('Alba')\n",
    "wallet1.work('Serving')\n",
    "wallet1.work('Teaching')"
   ]
  },
  {
   "cell_type": "code",
   "execution_count": 52,
   "metadata": {},
   "outputs": [
    {
     "name": "stdout",
     "output_type": "stream",
     "text": [
      "지갑의 소유자는test\n",
      "현재 잔액은 25000\n"
     ]
    }
   ],
   "source": [
    "wallet1.wallet_info()"
   ]
  },
  {
   "cell_type": "code",
   "execution_count": 54,
   "metadata": {},
   "outputs": [
    {
     "name": "stdout",
     "output_type": "stream",
     "text": [
      "지갑의 소유자는test2\n",
      "현재 잔액은 0\n"
     ]
    }
   ],
   "source": [
    "wallet2.wallet_info()"
   ]
  },
  {
   "cell_type": "code",
   "execution_count": 55,
   "metadata": {},
   "outputs": [
    {
     "data": {
      "text/plain": [
       "'TM 일을 성공하였습니다.                현재 잔액은5000 입니다.'"
      ]
     },
     "execution_count": 55,
     "metadata": {},
     "output_type": "execute_result"
    }
   ],
   "source": [
    "wallet2.work(\"TM\")"
   ]
  },
  {
   "cell_type": "code",
   "execution_count": null,
   "metadata": {},
   "outputs": [],
   "source": []
  }
 ],
 "metadata": {
  "kernelspec": {
   "display_name": "Python 3",
   "language": "python",
   "name": "python3"
  },
  "language_info": {
   "codemirror_mode": {
    "name": "ipython",
    "version": 3
   },
   "file_extension": ".py",
   "mimetype": "text/x-python",
   "name": "python",
   "nbconvert_exporter": "python",
   "pygments_lexer": "ipython3",
   "version": "3.11.1"
  },
  "orig_nbformat": 4,
  "vscode": {
   "interpreter": {
    "hash": "c261aea317cc0286b3b3261fbba9abdec21eaa57589985bb7a274bf54d6cc0a7"
   }
  }
 },
 "nbformat": 4,
 "nbformat_minor": 2
}
