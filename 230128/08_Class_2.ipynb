{
 "cells": [
  {
   "attachments": {},
   "cell_type": "markdown",
   "metadata": {},
   "source": [
    "### class \n",
    "1. User 클래스 생성 \n",
    "   - 생성자 함수는 유저 정보 입력 ( 이름, 휴대폰번호, 생년월일)\n",
    "   - info() 함수를 생성 : 유저의 정보를 출력 \n",
    "2. Wallet 클래스 새성 \n",
    "   - User 를 상속 \n",
    "   - 생성자 함수는 소유자, 지갑 브랜드, 지갑의 가치, 잔액(0) 입력 \n",
    "   - work() 함수를 생성 : 일의 종류는 'TM', 'Alba','Serving' 이고 TM 을 하는 경우 지갑의 잔액이 5000 증가, Alba 를 하는 경우\n",
    "     잔액 10000 증가, Serving 을 하는 경우 잔액이 15000 증가. \n",
    "   - wallet_info() 함수를 생성 : 지갑의 소유자 정보와 잔액을 출력"
   ]
  },
  {
   "cell_type": "code",
   "execution_count": 1,
   "metadata": {},
   "outputs": [],
   "source": [
    "## User 클래스 선언 \n",
    "class User():\n",
    "    ## 생성자 함수인 __init__ 생성\n",
    "    def __init__ (self,_name,_phone,_birth):\n",
    "        self.name = _name\n",
    "        self.phone = _phone\n",
    "        self.birth = _birth\n",
    "    ## User 의 정보를 출력하는 method 함수 생성 \n",
    "    def info(self):\n",
    "        self.result = [self.name,self.phone,self.birth]\n",
    "        return self.result"
   ]
  },
  {
   "cell_type": "code",
   "execution_count": 7,
   "metadata": {},
   "outputs": [
    {
     "name": "stdout",
     "output_type": "stream",
     "text": [
      "['test', '012039485', '740825']\n",
      "['test2', '000394858', '850130']\n"
     ]
    }
   ],
   "source": [
    "user1 = User('test','012039485','740825')\n",
    "user2 = User('test2','000394858','850130')\n",
    "U1 = user1.info()\n",
    "print(U1)\n",
    "U2 = user2.info()\n",
    "print(U2)"
   ]
  }
 ],
 "metadata": {
  "kernelspec": {
   "display_name": "Python 3",
   "language": "python",
   "name": "python3"
  },
  "language_info": {
   "codemirror_mode": {
    "name": "ipython",
    "version": 3
   },
   "file_extension": ".py",
   "mimetype": "text/x-python",
   "name": "python",
   "nbconvert_exporter": "python",
   "pygments_lexer": "ipython3",
   "version": "3.11.1"
  },
  "orig_nbformat": 4,
  "vscode": {
   "interpreter": {
    "hash": "c261aea317cc0286b3b3261fbba9abdec21eaa57589985bb7a274bf54d6cc0a7"
   }
  }
 },
 "nbformat": 4,
 "nbformat_minor": 2
}
